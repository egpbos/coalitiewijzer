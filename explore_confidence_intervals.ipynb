{
 "cells": [
  {
   "cell_type": "markdown",
   "metadata": {},
   "source": [
    "Tom Louwerse stores the raw simulation data that is used to produce the [Peilingwijzer](https://peilingwijzer.tomlouwerse.nl) in a file that can be downloaded via the following dynamic link:"
   ]
  },
  {
   "cell_type": "code",
   "execution_count": 1,
   "metadata": {},
   "outputs": [],
   "source": [
    "import pandas as pd"
   ]
  },
  {
   "cell_type": "code",
   "execution_count": 2,
   "metadata": {},
   "outputs": [],
   "source": [
    "data = pd.read_csv(\"https://d1bjgq97if6urz.cloudfront.net/Public/Peilingwijzer/Last/coa_seats.csv\",\n",
    "                   index_col=0, header=0)"
   ]
  },
  {
   "cell_type": "markdown",
   "metadata": {},
   "source": [
    "Colors picked from the Peilingwijzer's colors to make the correspondence clearer:"
   ]
  },
  {
   "cell_type": "code",
   "execution_count": 3,
   "metadata": {},
   "outputs": [],
   "source": [
    "colors = {\n",
    "    \"VVD\": \"#455493\",\n",
    "    \"PVV\": \"#00B9FF\",\n",
    "    \"CDA\": \"#00894B\",\n",
    "    \"D66\": \"#4AAB2D\",\n",
    "    \"GL\": \"#006B39\",\n",
    "    \"SP\": \"#C73D77\",\n",
    "    \"PvdA\": \"#9A0D1B\",\n",
    "    \"CU\": \"#0094B4\",\n",
    "    \"PvdD\": \"#EBC30A\",\n",
    "    \"50PLUS\": \"#C2791E\",\n",
    "    \"SGP\": \"#7F8084\",\n",
    "    \"Denk\": \"#41BAC1\",\n",
    "    \"FvD\": \"#6E0C13\",\n",
    "    \"PvdT\": \"#F9E518\"\n",
    "}"
   ]
  },
  {
   "cell_type": "code",
   "execution_count": 4,
   "metadata": {},
   "outputs": [
    {
     "data": {
      "text/plain": [
       "46"
      ]
     },
     "execution_count": 4,
     "metadata": {},
     "output_type": "execute_result"
    }
   ],
   "source": [
    "data.max().max()"
   ]
  },
  {
   "cell_type": "code",
   "execution_count": 5,
   "metadata": {},
   "outputs": [],
   "source": [
    "hist_kwargs = dict(\n",
    "#                alpha=0.8,\n",
    "               stacked=True,\n",
    "#                histtype='stepfilled',\n",
    "#                density=True,\n",
    "               figsize=(15,10)\n",
    ")"
   ]
  },
  {
   "cell_type": "code",
   "execution_count": 6,
   "metadata": {},
   "outputs": [
    {
     "data": {
      "text/plain": [
       "<AxesSubplot:ylabel='Frequency'>"
      ]
     },
     "execution_count": 6,
     "metadata": {},
     "output_type": "execute_result"
    },
    {
     "data": {
      "image/png": "[encoded data removed]",
      "text/plain": [
       "<Figure size 1080x720 with 1 Axes>"
      ]
     },
     "metadata": {
      "needs_background": "light"
     },
     "output_type": "display_data"
    }
   ],
   "source": [
    "data.plot.hist(**hist_kwargs, bins=data.max().max() + 1, color=colors)"
   ]
  },
  {
   "cell_type": "markdown",
   "metadata": {},
   "source": [
    "If you want to visualize coalitions in this way, you have to add up the counts per simulation and then visualize those numbers. For instance, let's take the VVD, PVV, CDA coalition, which at this point in time (10 November 2020) could form a majority, according to the sum of the polls' best estimates as published on the Peilingwijzer graph. And we compare to a huge left-wing-ish coalition."
   ]
  },
  {
   "cell_type": "code",
   "execution_count": 7,
   "metadata": {},
   "outputs": [],
   "source": [
    "coalitions = pd.DataFrame()"
   ]
  },
  {
   "cell_type": "code",
   "execution_count": null,
   "metadata": {},
   "outputs": [],
   "source": [
    "def sum_coalition(data, *parties):\n",
    "    return sum(data[party] for party in parties)"
   ]
  },
  {
   "cell_type": "code",
   "execution_count": 9,
   "metadata": {},
   "outputs": [],
   "source": [
    "def add_coalition(coalitions_df, data, *parties, inplace=False):\n",
    "    name = \"+\".join(parties)\n",
    "    if not inplace:\n",
    "        coalitions_df = coalitions_df.copy()\n",
    "    coalitions_df[name] = sum_coalition(data, *parties)\n",
    "    return coalitions_df"
   ]
  },
  {
   "cell_type": "code",
   "execution_count": 10,
   "metadata": {},
   "outputs": [],
   "source": [
    "coalitions = add_coalition(coalitions, data, \"VVD\", \"PVV\", \"CDA\")"
   ]
  },
  {
   "cell_type": "code",
   "execution_count": 11,
   "metadata": {},
   "outputs": [],
   "source": [
    "coalitions = add_coalition(coalitions, data, \"GL\", \"SP\", \"PvdA\", \"PvdD\", \"Denk\", \"50PLUS\")"
   ]
  },
  {
   "cell_type": "code",
   "execution_count": 12,
   "metadata": {},
   "outputs": [
    {
     "data": {
      "text/html": [
       "<div>\n",
       "<style scoped>\n",
       "    .dataframe tbody tr th:only-of-type {\n",
       "        vertical-align: middle;\n",
       "    }\n",
       "\n",
       "    .dataframe tbody tr th {\n",
       "        vertical-align: top;\n",
       "    }\n",
       "\n",
       "    .dataframe thead th {\n",
       "        text-align: right;\n",
       "    }\n",
       "</style>\n",
       "<table border=\"1\" class=\"dataframe\">\n",
       "  <thead>\n",
       "    <tr style=\"text-align: right;\">\n",
       "      <th></th>\n",
       "      <th>VVD+PVV+CDA</th>\n",
       "      <th>GL+SP+PvdA+PvdD+Denk+50PLUS</th>\n",
       "    </tr>\n",
       "  </thead>\n",
       "  <tbody>\n",
       "    <tr>\n",
       "      <th>result.1</th>\n",
       "      <td>77</td>\n",
       "      <td>44</td>\n",
       "    </tr>\n",
       "    <tr>\n",
       "      <th>result.2</th>\n",
       "      <td>74</td>\n",
       "      <td>47</td>\n",
       "    </tr>\n",
       "    <tr>\n",
       "      <th>result.3</th>\n",
       "      <td>76</td>\n",
       "      <td>44</td>\n",
       "    </tr>\n",
       "    <tr>\n",
       "      <th>result.4</th>\n",
       "      <td>73</td>\n",
       "      <td>47</td>\n",
       "    </tr>\n",
       "    <tr>\n",
       "      <th>result.5</th>\n",
       "      <td>73</td>\n",
       "      <td>46</td>\n",
       "    </tr>\n",
       "    <tr>\n",
       "      <th>...</th>\n",
       "      <td>...</td>\n",
       "      <td>...</td>\n",
       "    </tr>\n",
       "    <tr>\n",
       "      <th>result.2496</th>\n",
       "      <td>73</td>\n",
       "      <td>47</td>\n",
       "    </tr>\n",
       "    <tr>\n",
       "      <th>result.2497</th>\n",
       "      <td>73</td>\n",
       "      <td>47</td>\n",
       "    </tr>\n",
       "    <tr>\n",
       "      <th>result.2498</th>\n",
       "      <td>75</td>\n",
       "      <td>45</td>\n",
       "    </tr>\n",
       "    <tr>\n",
       "      <th>result.2499</th>\n",
       "      <td>75</td>\n",
       "      <td>45</td>\n",
       "    </tr>\n",
       "    <tr>\n",
       "      <th>result.2500</th>\n",
       "      <td>74</td>\n",
       "      <td>46</td>\n",
       "    </tr>\n",
       "  </tbody>\n",
       "</table>\n",
       "<p>2500 rows × 2 columns</p>\n",
       "</div>"
      ],
      "text/plain": [
       "             VVD+PVV+CDA  GL+SP+PvdA+PvdD+Denk+50PLUS\n",
       "result.1              77                           44\n",
       "result.2              74                           47\n",
       "result.3              76                           44\n",
       "result.4              73                           47\n",
       "result.5              73                           46\n",
       "...                  ...                          ...\n",
       "result.2496           73                           47\n",
       "result.2497           73                           47\n",
       "result.2498           75                           45\n",
       "result.2499           75                           45\n",
       "result.2500           74                           46\n",
       "\n",
       "[2500 rows x 2 columns]"
      ]
     },
     "execution_count": 12,
     "metadata": {},
     "output_type": "execute_result"
    }
   ],
   "source": [
    "coalitions"
   ]
  },
  {
   "cell_type": "code",
   "execution_count": 13,
   "metadata": {},
   "outputs": [
    {
     "data": {
      "text/plain": [
       "<AxesSubplot:ylabel='Frequency'>"
      ]
     },
     "execution_count": 13,
     "metadata": {},
     "output_type": "execute_result"
    },
    {
     "data": {
      "image/png": "[encoded data removed]",
      "text/plain": [
       "<Figure size 1080x720 with 1 Axes>"
      ]
     },
     "metadata": {
      "needs_background": "light"
     },
     "output_type": "display_data"
    }
   ],
   "source": [
    "coalitions.plot.hist(\n",
    "    **hist_kwargs,\n",
    "    bins=coalitions.max().max() + 1\n",
    ")"
   ]
  },
  {
   "cell_type": "markdown",
   "metadata": {},
   "source": [
    "Now we have to still extract 95% confidence intervals. We can approximate by using mean and twice the standard deviation. Then round up, as is done in Peilingwijzer as well. Let's try it out for a few parties and see whether it matches."
   ]
  },
  {
   "cell_type": "code",
   "execution_count": 14,
   "metadata": {},
   "outputs": [],
   "source": [
    "import pickle\n",
    "from collections import namedtuple\n",
    "Peiling = namedtuple('Peiling', ['verwacht', 'laag', 'hoog'])\n",
    "with open('peilingen.pkl', 'rb') as fh:\n",
    "    numbers = pickle.load(fh)"
   ]
  },
  {
   "cell_type": "code",
   "execution_count": 15,
   "metadata": {},
   "outputs": [],
   "source": [
    "import math"
   ]
  },
  {
   "cell_type": "code",
   "execution_count": 16,
   "metadata": {},
   "outputs": [],
   "source": [
    "def compare_estimator_1(party):\n",
    "    est = data[party].mean().round()\n",
    "    interval = math.ceil((2 * data[party].std()))\n",
    "    our_estimate = Peiling(verwacht=est, laag=max(0, est - interval), hoog=min(est + interval, 150))\n",
    "    correct = numbers[party] == our_estimate\n",
    "    return correct, {\"correct\": numbers[party], \"ours\": our_estimate, \"mean\": data[party].mean(), \"2 x std\": 2 * data[party].std()}"
   ]
  },
  {
   "cell_type": "code",
   "execution_count": 17,
   "metadata": {},
   "outputs": [
    {
     "data": {
      "text/plain": [
       "{'VVD': (True,\n",
       "  {'correct': Peiling(verwacht=42, laag=39, hoog=45),\n",
       "   'ours': Peiling(verwacht=42.0, laag=39.0, hoog=45.0),\n",
       "   'mean': 41.7928,\n",
       "   '2 x std': 2.1621615612730745}),\n",
       " 'PVV': (True,\n",
       "  {'correct': Peiling(verwacht=20, laag=18, hoog=22),\n",
       "   'ours': Peiling(verwacht=20.0, laag=18.0, hoog=22.0),\n",
       "   'mean': 19.8356,\n",
       "   '2 x std': 1.8444650662325432}),\n",
       " 'CDA': (True,\n",
       "  {'correct': Peiling(verwacht=14, laag=12, hoog=16),\n",
       "   'ours': Peiling(verwacht=14.0, laag=12.0, hoog=16.0),\n",
       "   'mean': 14.35,\n",
       "   '2 x std': 1.3921117735570052}),\n",
       " 'D66': (True,\n",
       "  {'correct': Peiling(verwacht=13, laag=11, hoog=15),\n",
       "   'ours': Peiling(verwacht=13.0, laag=11.0, hoog=15.0),\n",
       "   'mean': 13.3936,\n",
       "   '2 x std': 1.4473265221174694}),\n",
       " 'GL': (False,\n",
       "  {'correct': Peiling(verwacht=14, laag=13, hoog=15),\n",
       "   'ours': Peiling(verwacht=14.0, laag=12.0, hoog=16.0),\n",
       "   'mean': 14.0088,\n",
       "   '2 x std': 1.1907381672530621}),\n",
       " 'SP': (True,\n",
       "  {'correct': Peiling(verwacht=10, laag=8, hoog=12),\n",
       "   'ours': Peiling(verwacht=10.0, laag=8.0, hoog=12.0),\n",
       "   'mean': 9.922,\n",
       "   '2 x std': 1.3625001147247842}),\n",
       " 'PvdA': (True,\n",
       "  {'correct': Peiling(verwacht=13, laag=11, hoog=15),\n",
       "   'ours': Peiling(verwacht=13.0, laag=11.0, hoog=15.0),\n",
       "   'mean': 13.2092,\n",
       "   '2 x std': 1.3729149275025252}),\n",
       " 'CU': (False,\n",
       "  {'correct': Peiling(verwacht=7, laag=6, hoog=8),\n",
       "   'ours': Peiling(verwacht=7.0, laag=5.0, hoog=9.0),\n",
       "   'mean': 6.6204,\n",
       "   '2 x std': 1.0032038313178775}),\n",
       " 'PvdD': (True,\n",
       "  {'correct': Peiling(verwacht=5, laag=4, hoog=6),\n",
       "   'ours': Peiling(verwacht=5.0, laag=4.0, hoog=6.0),\n",
       "   'mean': 4.902,\n",
       "   '2 x std': 0.646336677313129}),\n",
       " '50PLUS': (False,\n",
       "  {'correct': Peiling(verwacht=1, laag=0, hoog=2),\n",
       "   'ours': Peiling(verwacht=1.0, laag=0, hoog=3.0),\n",
       "   'mean': 1.3656,\n",
       "   '2 x std': 1.0704227585177648}),\n",
       " 'SGP': (True,\n",
       "  {'correct': Peiling(verwacht=3, laag=2, hoog=4),\n",
       "   'ours': Peiling(verwacht=3.0, laag=2.0, hoog=4.0),\n",
       "   'mean': 3.0152,\n",
       "   '2 x std': 0.24474435625764276}),\n",
       " 'Denk': (False,\n",
       "  {'correct': Peiling(verwacht=2, laag=1, hoog=3),\n",
       "   'ours': Peiling(verwacht=1.0, laag=0, hoog=3.0),\n",
       "   'mean': 1.4876,\n",
       "   '2 x std': 1.0513929478802588}),\n",
       " 'FvD': (True,\n",
       "  {'correct': Peiling(verwacht=6, laag=4, hoog=8),\n",
       "   'ours': Peiling(verwacht=6.0, laag=4.0, hoog=8.0),\n",
       "   'mean': 6.088,\n",
       "   '2 x std': 1.5321759119664047}),\n",
       " 'PvdT': (True,\n",
       "  {'correct': Peiling(verwacht=0, laag=0, hoog=1),\n",
       "   'ours': Peiling(verwacht=0.0, laag=0, hoog=1.0),\n",
       "   'mean': 0.0092,\n",
       "   '2 x std': 0.19098699016468337})}"
      ]
     },
     "execution_count": 17,
     "metadata": {},
     "output_type": "execute_result"
    }
   ],
   "source": [
    "{party: compare_estimator_1(party) for party in data.columns}"
   ]
  },
  {
   "cell_type": "markdown",
   "metadata": {},
   "source": [
    "Ok, not completely there yet, then, but pretty close. Had to add clip below 0 (and, to be technically correct, above 150).\n",
    "\n",
    "But then still there's a few things going wrong:\n",
    "\n",
    "- Denk is not at the mean. Is the peak instead determined at the maximum probability peak?\n",
    "- GL, CU and 50PLUS have a broader confidence interval in our estimate. Perhaps ceil is not the best rounding function. We could fiddle a bit with a weird rounder that rounds up above 0.25 and down below that, or some other value that fits the distributions best.\n",
    "\n",
    "This is probably all due to the gaussian approximation we make here. The actual model is not a Gaussian, so mean and std are flawed estimators of the true confidence interval. Anyway, as long as it's close, we can always try the actual model later.\n",
    "\n",
    "Let's first try to compare max likelihood peak:"
   ]
  },
  {
   "cell_type": "code",
   "execution_count": 18,
   "metadata": {},
   "outputs": [
    {
     "data": {
      "text/plain": [
       "1"
      ]
     },
     "execution_count": 18,
     "metadata": {},
     "output_type": "execute_result"
    }
   ],
   "source": [
    "data[\"Denk\"].value_counts().index[0]"
   ]
  },
  {
   "cell_type": "code",
   "execution_count": 19,
   "metadata": {},
   "outputs": [],
   "source": [
    "def compare_estimator_2():\n",
    "    comparison = {}\n",
    "\n",
    "    def estimate_Peiling(est, std):\n",
    "        interval = math.ceil((2 * std))\n",
    "        return Peiling(verwacht=est, laag=max(0, est - interval), hoog=min(est + interval, 150))\n",
    "\n",
    "    def check_correctness(theirs, ours):\n",
    "        correct = theirs == ours\n",
    "        return correct, {\"correct\": theirs,\n",
    "                         \"ours\": ours,\n",
    "                         \"mean\": data[party].mean(),\n",
    "                         \"2 x std\": 2 * data[party].std()}\n",
    "\n",
    "    def compare_party(party):\n",
    "        est = data[party].value_counts().index[0]\n",
    "        our_estimate = estimate_Peiling(est, data[party].std())\n",
    "        return check_correctness(numbers[party], our_estimate)\n",
    "\n",
    "    for party in data.columns:\n",
    "        comparison[party] = compare_party(party)\n",
    "\n",
    "    # add missing seats if necessary\n",
    "    while sum(ding[1]['ours'].verwacht for ding in comparison.values()) < 150:\n",
    "        rest_values = {party: thing[1][\"mean\"] - thing[1][\"ours\"].verwacht for party, thing in comparison.items()}\n",
    "        party_max_rest = max(rest_values.keys(), key=(lambda k: rest_values[k]))\n",
    "\n",
    "        ours_new = estimate_Peiling(comparison[party_max_rest][1][\"ours\"].verwacht + 1,\n",
    "                                    comparison[party_max_rest][1][\"2 x std\"] / 2)\n",
    "\n",
    "        comparison[party_max_rest] = check_correctness(numbers[party_max_rest], ours_new)\n",
    "\n",
    "    return comparison"
   ]
  },
  {
   "cell_type": "code",
   "execution_count": 20,
   "metadata": {},
   "outputs": [
    {
     "data": {
      "text/plain": [
       "{'VVD': True,\n",
       " 'PVV': True,\n",
       " 'CDA': True,\n",
       " 'D66': True,\n",
       " 'GL': False,\n",
       " 'SP': True,\n",
       " 'PvdA': True,\n",
       " 'CU': False,\n",
       " 'PvdD': True,\n",
       " '50PLUS': False,\n",
       " 'SGP': True,\n",
       " 'Denk': False,\n",
       " 'FvD': True,\n",
       " 'PvdT': True}"
      ]
     },
     "execution_count": 20,
     "metadata": {},
     "output_type": "execute_result"
    }
   ],
   "source": [
    "comparison_2 = compare_estimator_2()\n",
    "# comparison_2\n",
    "{party: ding[0] for party, ding in comparison_2.items()}"
   ]
  },
  {
   "cell_type": "code",
   "execution_count": 21,
   "metadata": {},
   "outputs": [
    {
     "data": {
      "text/plain": [
       "150"
      ]
     },
     "execution_count": 21,
     "metadata": {},
     "output_type": "execute_result"
    }
   ],
   "source": [
    "sum(ding[1]['correct'].verwacht for ding in comparison_2.values())"
   ]
  },
  {
   "cell_type": "code",
   "execution_count": 22,
   "metadata": {},
   "outputs": [
    {
     "data": {
      "text/plain": [
       "150"
      ]
     },
     "execution_count": 22,
     "metadata": {},
     "output_type": "execute_result"
    }
   ],
   "source": [
    "sum(ding[1]['ours'].verwacht for ding in comparison_2.values())"
   ]
  },
  {
   "cell_type": "markdown",
   "metadata": {},
   "source": [
    "Ah, ok, so Denk has to get a rest seat here, it seems.\n",
    "\n",
    "Then, let's try the rounding fiddling to get the rest correct..."
   ]
  },
  {
   "cell_type": "code",
   "execution_count": 23,
   "metadata": {},
   "outputs": [],
   "source": [
    "def compare_estimator_3(round_dec=0.15):\n",
    "    comparison = {}\n",
    "\n",
    "    def estimate_Peiling(est, std, round_dec=round_dec):\n",
    "        two_std = 2 * std\n",
    "        two_std_floor = math.floor(two_std)\n",
    "        two_std_rest = two_std - two_std_floor\n",
    "        if two_std_rest < round_dec:\n",
    "            interval = two_std_floor\n",
    "        else:\n",
    "            interval = math.ceil(two_std)\n",
    "        return Peiling(verwacht=est, laag=max(0, est - interval), hoog=min(est + interval, 150))\n",
    "\n",
    "    def check_correctness(theirs, ours):\n",
    "        correct = theirs == ours\n",
    "        return correct, {\"correct\": theirs,\n",
    "                         \"ours\": ours,\n",
    "                         \"mean\": data[party].mean(),\n",
    "                         \"2 x std\": 2 * data[party].std()}\n",
    "\n",
    "    def compare_party(party):\n",
    "        # max likelihood or mean makes no difference in practice\n",
    "#         est = data[party].value_counts().index[0]\n",
    "        est = data[party].mean().round()\n",
    "        our_estimate = estimate_Peiling(est, data[party].std())\n",
    "        return check_correctness(numbers[party], our_estimate)\n",
    "\n",
    "    for party in data.columns:\n",
    "        comparison[party] = compare_party(party)\n",
    "\n",
    "    # add missing seats if necessary\n",
    "    while sum(ding[1]['ours'].verwacht for ding in comparison.values()) < 150:\n",
    "        rest_values = {party: thing[1][\"mean\"] - thing[1][\"ours\"].verwacht for party, thing in comparison.items()}\n",
    "        party_max_rest = max(rest_values.keys(), key=(lambda k: rest_values[k]))\n",
    "\n",
    "        ours_new = estimate_Peiling(comparison[party_max_rest][1][\"ours\"].verwacht + 1,\n",
    "                                    comparison[party_max_rest][1][\"2 x std\"] / 2)\n",
    "\n",
    "        comparison[party_max_rest] = check_correctness(numbers[party_max_rest], ours_new)\n",
    "\n",
    "    return comparison"
   ]
  },
  {
   "cell_type": "code",
   "execution_count": 24,
   "metadata": {},
   "outputs": [
    {
     "data": {
      "text/plain": [
       "{'VVD': True,\n",
       " 'PVV': True,\n",
       " 'CDA': True,\n",
       " 'D66': True,\n",
       " 'GL': False,\n",
       " 'SP': True,\n",
       " 'PvdA': True,\n",
       " 'CU': True,\n",
       " 'PvdD': True,\n",
       " '50PLUS': True,\n",
       " 'SGP': True,\n",
       " 'Denk': True,\n",
       " 'FvD': True,\n",
       " 'PvdT': True}"
      ]
     },
     "execution_count": 24,
     "metadata": {},
     "output_type": "execute_result"
    }
   ],
   "source": [
    "comparison_3 = compare_estimator_3()\n",
    "{party: ding[0] for party, ding in comparison_3.items()}"
   ]
  },
  {
   "cell_type": "code",
   "execution_count": 25,
   "metadata": {},
   "outputs": [
    {
     "data": {
      "text/plain": [
       "(False,\n",
       " {'correct': Peiling(verwacht=14, laag=13, hoog=15),\n",
       "  'ours': Peiling(verwacht=14.0, laag=12.0, hoog=16.0),\n",
       "  'mean': 14.0088,\n",
       "  '2 x std': 1.1907381672530621})"
      ]
     },
     "execution_count": 25,
     "metadata": {},
     "output_type": "execute_result"
    }
   ],
   "source": [
    "comparison_3['GL']"
   ]
  },
  {
   "cell_type": "markdown",
   "metadata": {},
   "source": [
    "Ok, so this is still not perfect, but it's the closest we can get, with only one wrong fit.\n",
    "\n",
    "On the other hand, maybe just using the gaussian approximation with rounding up is a safer way to go. We will have some wider uncertainty estimates, but we can take those to represent the fact that we do not actually use the right model.\n",
    "\n",
    "So, let's go with estimation method 2 for the coalitions. Except, instead of max likelihood, we go back to mean, because it makes no difference in practice, but is unambiguous in case there are two equally likely bins in the histogram.\n",
    "\n",
    "Also, let's do it with Python standard library stuff now to prepare for using it from Heroku with minimal dependencies."
   ]
  },
  {
   "cell_type": "code",
   "execution_count": 26,
   "metadata": {},
   "outputs": [],
   "source": [
    "import statistics"
   ]
  },
  {
   "cell_type": "code",
   "execution_count": 96,
   "metadata": {},
   "outputs": [],
   "source": [
    "def to_Peiling_from_simulations(simulations):\n",
    "    def estimate_Peiling(est, std):\n",
    "        interval = math.ceil((2 * std))\n",
    "        return Peiling(verwacht=int(est),\n",
    "                       laag=int(max(0, est - interval)),\n",
    "                       hoog=int(min(est + interval, 150)))\n",
    "\n",
    "    est = round(statistics.mean(simulations))\n",
    "    return estimate_Peiling(est, statistics.stdev(simulations))"
   ]
  },
  {
   "cell_type": "code",
   "execution_count": 28,
   "metadata": {},
   "outputs": [
    {
     "data": {
      "text/plain": [
       "{'VVD': True,\n",
       " 'PVV': True,\n",
       " 'CDA': True,\n",
       " 'D66': True,\n",
       " 'GL': False,\n",
       " 'SP': True,\n",
       " 'PvdA': True,\n",
       " 'CU': False,\n",
       " 'PvdD': True,\n",
       " '50PLUS': False,\n",
       " 'SGP': True,\n",
       " 'Denk': False,\n",
       " 'FvD': True,\n",
       " 'PvdT': True}"
      ]
     },
     "execution_count": 28,
     "metadata": {},
     "output_type": "execute_result"
    }
   ],
   "source": [
    "{party: to_Peiling_from_simulations(data[party]) == numbers[party] for party in data.columns}"
   ]
  },
  {
   "cell_type": "code",
   "execution_count": 29,
   "metadata": {},
   "outputs": [
    {
     "data": {
      "text/plain": [
       "Peiling(verwacht=45, laag=42, hoog=48)"
      ]
     },
     "execution_count": 29,
     "metadata": {},
     "output_type": "execute_result"
    }
   ],
   "source": [
    "to_Peiling_from_simulations(coalitions[\"GL+SP+PvdA+PvdD+Denk+50PLUS\"])"
   ]
  },
  {
   "cell_type": "code",
   "execution_count": 30,
   "metadata": {},
   "outputs": [
    {
     "data": {
      "text/plain": [
       "Peiling(verwacht=76, laag=73, hoog=79)"
      ]
     },
     "execution_count": 30,
     "metadata": {},
     "output_type": "execute_result"
    }
   ],
   "source": [
    "to_Peiling_from_simulations(coalitions[\"VVD+PVV+CDA\"])"
   ]
  },
  {
   "cell_type": "markdown",
   "metadata": {},
   "source": [
    "That was with a Pandas Series, but we can now also do it directly on a regular list:"
   ]
  },
  {
   "cell_type": "code",
   "execution_count": 31,
   "metadata": {},
   "outputs": [
    {
     "data": {
      "text/plain": [
       "Peiling(verwacht=76, laag=73, hoog=79)"
      ]
     },
     "execution_count": 31,
     "metadata": {},
     "output_type": "execute_result"
    }
   ],
   "source": [
    "to_Peiling_from_simulations(list(coalitions[\"VVD+PVV+CDA\"]))"
   ]
  },
  {
   "cell_type": "markdown",
   "metadata": {},
   "source": [
    "Now, when we do it for all parties, we should get a vanishing interval."
   ]
  },
  {
   "cell_type": "code",
   "execution_count": 32,
   "metadata": {},
   "outputs": [],
   "source": [
    "coalitions = add_coalition(coalitions, data, *data.columns)"
   ]
  },
  {
   "cell_type": "code",
   "execution_count": 33,
   "metadata": {},
   "outputs": [
    {
     "data": {
      "text/plain": [
       "Index(['VVD+PVV+CDA', 'GL+SP+PvdA+PvdD+Denk+50PLUS',\n",
       "       'VVD+PVV+CDA+D66+GL+SP+PvdA+CU+PvdD+50PLUS+SGP+Denk+FvD+PvdT'],\n",
       "      dtype='object')"
      ]
     },
     "execution_count": 33,
     "metadata": {},
     "output_type": "execute_result"
    }
   ],
   "source": [
    "coalitions.keys()"
   ]
  },
  {
   "cell_type": "code",
   "execution_count": 34,
   "metadata": {},
   "outputs": [
    {
     "data": {
      "text/plain": [
       "Peiling(verwacht=150, laag=150, hoog=150)"
      ]
     },
     "execution_count": 34,
     "metadata": {},
     "output_type": "execute_result"
    }
   ],
   "source": [
    "to_Peiling_from_simulations(list(coalitions[\"VVD+PVV+CDA+D66+GL+SP+PvdA+CU+PvdD+50PLUS+SGP+Denk+FvD+PvdT\"]))"
   ]
  },
  {
   "cell_type": "markdown",
   "metadata": {},
   "source": [
    "Cool!"
   ]
  },
  {
   "cell_type": "code",
   "execution_count": 35,
   "metadata": {},
   "outputs": [
    {
     "data": {
      "text/plain": [
       "Peiling(verwacht=150, laag=149, hoog=150)"
      ]
     },
     "execution_count": 35,
     "metadata": {},
     "output_type": "execute_result"
    }
   ],
   "source": [
    "to_Peiling_from_simulations(sum_coalition(data, *data.columns[:-1]))"
   ]
  },
  {
   "cell_type": "markdown",
   "metadata": {},
   "source": [
    "Indeed, without PvdT (last in the list), which is estimated at 0, but could get 1, this is what you expect."
   ]
  },
  {
   "cell_type": "code",
   "execution_count": 36,
   "metadata": {},
   "outputs": [
    {
     "data": {
      "text/plain": [
       "Peiling(verwacht=144, laag=142, hoog=146)"
      ]
     },
     "execution_count": 36,
     "metadata": {},
     "output_type": "execute_result"
    }
   ],
   "source": [
    "to_Peiling_from_simulations(sum_coalition(data, *data.columns[:-2]))"
   ]
  },
  {
   "cell_type": "code",
   "execution_count": 37,
   "metadata": {},
   "outputs": [
    {
     "data": {
      "text/plain": [
       "Peiling(verwacht=6, laag=4, hoog=8)"
      ]
     },
     "execution_count": 37,
     "metadata": {},
     "output_type": "execute_result"
    }
   ],
   "source": [
    "to_Peiling_from_simulations(data['FvD'])"
   ]
  },
  {
   "cell_type": "markdown",
   "metadata": {},
   "source": [
    "FvD is second to last, so excluding it should indeed lower the estimate by 6. We see that the uncertainty of PvdT alone is no longer just \"added\" as we did before in the first Coalitiewijzer, but they are now combined into an uncertainty estimate that is apparently the same as that of FvD alone.\n",
    "\n",
    "Time to build this into the Coalitiewijzer!\n",
    "\n",
    "Save in native format:"
   ]
  },
  {
   "cell_type": "code",
   "execution_count": 38,
   "metadata": {},
   "outputs": [],
   "source": [
    "import pickle"
   ]
  },
  {
   "cell_type": "code",
   "execution_count": 39,
   "metadata": {},
   "outputs": [],
   "source": [
    "sims_df = pd.read_csv(\"https://d1bjgq97if6urz.cloudfront.net/Public/Peilingwijzer/Last/coa_seats.csv\",\n",
    "                       index_col=0, header=0)\n",
    "sims = {party: tuple(sims_df[party]) for party in sims_df}"
   ]
  },
  {
   "cell_type": "code",
   "execution_count": null,
   "metadata": {},
   "outputs": [],
   "source": [
    "with open('simulations.pkl', 'wb') as fh:\n",
    "    pickle.dump(sims, fh)"
   ]
  },
  {
   "cell_type": "code",
   "execution_count": 40,
   "metadata": {},
   "outputs": [],
   "source": [
    "import itertools"
   ]
  },
  {
   "cell_type": "code",
   "execution_count": 42,
   "metadata": {
    "scrolled": true
   },
   "outputs": [
    {
     "data": {
      "text/plain": [
       "[('a',), ('b',), ('c',), ('d',)]"
      ]
     },
     "execution_count": 42,
     "metadata": {},
     "output_type": "execute_result"
    }
   ],
   "source": [
    "list(itertools.product('abcd'))"
   ]
  },
  {
   "cell_type": "code",
   "execution_count": 43,
   "metadata": {},
   "outputs": [
    {
     "name": "stdout",
     "output_type": "stream",
     "text": [
      "Collecting more-itertools\n",
      "\u001b[?25l  Downloading https://files.pythonhosted.org/packages/66/58/63146600d8c35188f2c4de3f1e2fe77a54e9c9ac99ac3b652f09e042f637/more_itertools-8.6.0-py3-none-any.whl (45kB)\n",
      "\u001b[K     |████████████████████████████████| 51kB 553kB/s eta 0:00:01\n",
      "\u001b[?25hInstalling collected packages: more-itertools\n",
      "Successfully installed more-itertools-8.6.0\n",
      "\u001b[33mWARNING: You are using pip version 19.2.3, however version 20.2.4 is available.\n",
      "You should consider upgrading via the 'pip install --upgrade pip' command.\u001b[0m\n",
      "Note: you may need to restart the kernel to use updated packages.\n"
     ]
    }
   ],
   "source": [
    "%pip install more-itertools"
   ]
  },
  {
   "cell_type": "code",
   "execution_count": 48,
   "metadata": {},
   "outputs": [],
   "source": [
    "def powerset(iterable):\n",
    "    \"powerset([1,2,3]) --> () (1,) (2,) (3,) (1,2) (1,3) (2,3) (1,2,3)\"\n",
    "    s = list(iterable)\n",
    "    return itertools.chain.from_iterable(itertools.combinations(s, r) for r in range(len(s)+1))"
   ]
  },
  {
   "cell_type": "code",
   "execution_count": 49,
   "metadata": {},
   "outputs": [],
   "source": [
    "import more_itertools"
   ]
  },
  {
   "cell_type": "code",
   "execution_count": 69,
   "metadata": {},
   "outputs": [],
   "source": [
    "l = list(range(300))"
   ]
  },
  {
   "cell_type": "code",
   "execution_count": 70,
   "metadata": {
    "scrolled": true
   },
   "outputs": [
    {
     "name": "stdout",
     "output_type": "stream",
     "text": [
      "1.52 µs ± 9.92 ns per loop (mean ± std. dev. of 7 runs, 1000000 loops each)\n",
      "1.51 µs ± 16.2 ns per loop (mean ± std. dev. of 7 runs, 1000000 loops each)\n"
     ]
    }
   ],
   "source": [
    "%timeit more_itertools.powerset(l)\n",
    "%timeit powerset(l)"
   ]
  },
  {
   "cell_type": "markdown",
   "metadata": {},
   "source": [
    "Ok, so `more_itertools` is not necessary for just this function."
   ]
  },
  {
   "cell_type": "code",
   "execution_count": 88,
   "metadata": {},
   "outputs": [
    {
     "data": {
      "text/plain": [
       "('VVD',)"
      ]
     },
     "execution_count": 88,
     "metadata": {},
     "output_type": "execute_result"
    }
   ],
   "source": [
    "list(powerset(sims.keys()))[1]"
   ]
  },
  {
   "cell_type": "markdown",
   "metadata": {},
   "source": [
    "Use some adapted function versions for use with Python native objects:"
   ]
  },
  {
   "cell_type": "code",
   "execution_count": 101,
   "metadata": {},
   "outputs": [],
   "source": [
    "def to_Peiling_from_simulations(simulations):\n",
    "    def estimate_Peiling(est, std):\n",
    "        interval = math.ceil((2 * std))\n",
    "        return Peiling(verwacht=int(est),\n",
    "                       laag=int(max(0, est - interval)),\n",
    "                       hoog=int(min(est + interval, 150)))\n",
    "\n",
    "    if simulations == 0 or len(simulations) == 0:\n",
    "        return Peiling(0, 0, 0)\n",
    "    est = round(statistics.mean(simulations))\n",
    "    return estimate_Peiling(est, statistics.stdev(simulations))"
   ]
  },
  {
   "cell_type": "code",
   "execution_count": 104,
   "metadata": {},
   "outputs": [
    {
     "name": "stdout",
     "output_type": "stream",
     "text": [
      "Collecting tqdm\n",
      "\u001b[?25l  Downloading https://files.pythonhosted.org/packages/93/3a/96b3dc293aa72443cf9627444c3c221a7ba34bb622e4d8bf1b5d4f2d9d08/tqdm-4.51.0-py2.py3-none-any.whl (70kB)\n",
      "\u001b[K     |████████████████████████████████| 71kB 1.7MB/s eta 0:00:01\n",
      "\u001b[?25hInstalling collected packages: tqdm\n",
      "Successfully installed tqdm-4.51.0\n",
      "\u001b[33mWARNING: You are using pip version 19.2.3, however version 20.2.4 is available.\n",
      "You should consider upgrading via the 'pip install --upgrade pip' command.\u001b[0m\n",
      "Note: you may need to restart the kernel to use updated packages.\n"
     ]
    }
   ],
   "source": [
    "%pip install tqdm"
   ]
  },
  {
   "cell_type": "code",
   "execution_count": 110,
   "metadata": {},
   "outputs": [],
   "source": [
    "from tqdm.notebook import tqdm"
   ]
  },
  {
   "cell_type": "code",
   "execution_count": 111,
   "metadata": {
    "scrolled": true
   },
   "outputs": [
    {
     "data": {
      "application/vnd.jupyter.widget-view+json": {
       "model_id": "9ed88ccc8fd04449a27d6ab9ce37689f",
       "version_major": 2,
       "version_minor": 0
      },
      "text/plain": [
       "HBox(children=(HTML(value=''), FloatProgress(value=0.0, max=16384.0), HTML(value='')))"
      ]
     },
     "metadata": {},
     "output_type": "display_data"
    },
    {
     "name": "stdout",
     "output_type": "stream",
     "text": [
      "\n"
     ]
    }
   ],
   "source": [
    "table = {}\n",
    "for key in tqdm(powerset(sims.keys()), total=2**len(sims.keys())):\n",
    "    table[key] = to_Peiling_from_simulations(sum_coalition(sims, *key))"
   ]
  },
  {
   "cell_type": "code",
   "execution_count": 123,
   "metadata": {},
   "outputs": [
    {
     "name": "stdout",
     "output_type": "stream",
     "text": [
      "6.73 ms ± 31.6 µs per loop (mean ± std. dev. of 7 runs, 100 loops each)\n"
     ]
    }
   ],
   "source": [
    "%timeit to_Peiling_from_simulations(sum_coalition(sims, *data.columns[:2]))"
   ]
  },
  {
   "cell_type": "code",
   "execution_count": 122,
   "metadata": {},
   "outputs": [
    {
     "name": "stdout",
     "output_type": "stream",
     "text": [
      "4.08 µs ± 26.4 ns per loop (mean ± std. dev. of 7 runs, 100000 loops each)\n"
     ]
    }
   ],
   "source": [
    "%timeit table[tuple(data.columns[:2])]"
   ]
  },
  {
   "cell_type": "markdown",
   "metadata": {},
   "source": [
    "SO, retrieving from a precalculated table is over 1000 times faster. I guess that pays off in responsivity, so let's do that instead. Also saves imports (math & statistics) added in previous release."
   ]
  },
  {
   "cell_type": "code",
   "execution_count": 125,
   "metadata": {},
   "outputs": [],
   "source": [
    "with open('table.pkl', 'wb') as fh:\n",
    "    pickle.dump(table, fh)"
   ]
  },
  {
   "cell_type": "markdown",
   "metadata": {},
   "source": [
    "The size is quite substantial, 464 kb instead of 69 kb for the original simulations pickle file. Can we shrink this using numerical keys?"
   ]
  },
  {
   "cell_type": "code",
   "execution_count": 132,
   "metadata": {
    "scrolled": true
   },
   "outputs": [
    {
     "name": "stdout",
     "output_type": "stream",
     "text": [
      "2.67 ms ± 105 µs per loop (mean ± std. dev. of 7 runs, 100 loops each)\n"
     ]
    }
   ],
   "source": [
    "%timeit {b: a for a, b in enumerate(powerset(sims.keys()))}"
   ]
  },
  {
   "cell_type": "code",
   "execution_count": 133,
   "metadata": {},
   "outputs": [],
   "source": [
    "index = dict(enumerate(powerset(sims.keys())))"
   ]
  },
  {
   "cell_type": "code",
   "execution_count": 131,
   "metadata": {},
   "outputs": [],
   "source": [
    "num_index = {b: a for a, b in enumerate(powerset(sims.keys()))}"
   ]
  },
  {
   "cell_type": "code",
   "execution_count": 134,
   "metadata": {},
   "outputs": [],
   "source": [
    "num_table = {num_index[key]: value for key, value in table.items()}"
   ]
  },
  {
   "cell_type": "code",
   "execution_count": 136,
   "metadata": {},
   "outputs": [],
   "source": [
    "with open('num_table.pkl', 'wb') as fh:\n",
    "    pickle.dump(num_table, fh)"
   ]
  },
  {
   "cell_type": "markdown",
   "metadata": {},
   "source": [
    "This is 240 kb."
   ]
  },
  {
   "cell_type": "code",
   "execution_count": 138,
   "metadata": {},
   "outputs": [
    {
     "name": "stdout",
     "output_type": "stream",
     "text": [
      "4.28 µs ± 160 ns per loop (mean ± std. dev. of 7 runs, 100000 loops each)\n"
     ]
    }
   ],
   "source": [
    "%timeit num_table[num_index[tuple(data.columns[:2])]]"
   ]
  },
  {
   "cell_type": "markdown",
   "metadata": {},
   "source": [
    "Almost same speed as without the num-step in between.\n",
    "\n",
    "ANYWAY, I may be over-engineering here."
   ]
  },
  {
   "cell_type": "code",
   "execution_count": null,
   "metadata": {},
   "outputs": [],
   "source": []
  }
 ],
 "metadata": {
  "kernelspec": {
   "display_name": "Python 3",
   "language": "python",
   "name": "python3"
  },
  "language_info": {
   "codemirror_mode": {
    "name": "ipython",
    "version": 3
   },
   "file_extension": ".py",
   "mimetype": "text/x-python",
   "name": "python",
   "nbconvert_exporter": "python",
   "pygments_lexer": "ipython3",
   "version": "3.8.2"
  }
 },
 "nbformat": 4,
 "nbformat_minor": 4
}
