{
 "cells": [
  {
   "cell_type": "markdown",
   "metadata": {},
   "source": [
    "In this notebook, I'm going to be collecting the candidate lists of Dutch parties for the 2021 pariamentary elections. In no particular order, just guided by availability, Google hit priority and also driven primarily by the parties in the Peilingwijzer."
   ]
  },
  {
   "cell_type": "markdown",
   "metadata": {},
   "source": [
    "# CU"
   ]
  },
  {
   "cell_type": "code",
   "execution_count": 123,
   "metadata": {},
   "outputs": [],
   "source": [
    "import requests\n",
    "from lxml import html\n",
    "import pdfx\n",
    "\n",
    "import pickle"
   ]
  },
  {
   "cell_type": "code",
   "execution_count": 129,
   "metadata": {},
   "outputs": [],
   "source": [
    "def load_and_save_page(filename, url):\n",
    "    try:\n",
    "        with open(filename, 'rb') as fh:\n",
    "            page = fh.read()\n",
    "    except FileNotFoundError:\n",
    "        print(\"Downloading new page\")\n",
    "        page = requests.get(url).content\n",
    "        with open(filename, 'wb') as fh:\n",
    "            fh.write(page)\n",
    "    return page"
   ]
  },
  {
   "cell_type": "code",
   "execution_count": 132,
   "metadata": {},
   "outputs": [],
   "source": [
    "filename = 'candidates_CU_page_20201115.html'\n",
    "url = 'https://www.christenunie.nl/kandidatenlijst'\n",
    "\n",
    "CU_tree = html.fromstring(load_and_save_page(filename, url))"
   ]
  },
  {
   "cell_type": "code",
   "execution_count": 133,
   "metadata": {},
   "outputs": [],
   "source": [
    "CU_candidate_divs = CU_tree.xpath('//div[@class=\"col column2\"]')"
   ]
  },
  {
   "cell_type": "code",
   "execution_count": 161,
   "metadata": {},
   "outputs": [],
   "source": [
    "def remove_punctuation(*strings):\n",
    "    output = []\n",
    "    punctuation = \"(),.|#\"\n",
    "    for string in strings:\n",
    "        for char in punctuation:\n",
    "            string = string.replace(char, '')\n",
    "        output.append(string)\n",
    "#     spaces = \"\\xa0\\xb0\"\n",
    "#     strings = output\n",
    "#     output = []\n",
    "#     for string in strings:\n",
    "#         for char in spaces:\n",
    "#             string = string.replace(char, ' ')\n",
    "#         output.append(string)\n",
    "    return output"
   ]
  },
  {
   "cell_type": "code",
   "execution_count": 155,
   "metadata": {},
   "outputs": [],
   "source": [
    "CU_candidates = {}\n",
    "for div in CU_candidate_divs:\n",
    "    naam = div.xpath('p/strong/text()')[0]\n",
    "    positie, plaats_jaar, CV = div.xpath('p/text()')\n",
    "    positie, plaats_jaar = remove_punctuation(positie, plaats_jaar)\n",
    "    plaats_jaar = plaats_jaar.strip().split()\n",
    "    jaar = plaats_jaar[-1]\n",
    "    plaats = \" \".join(plaats_jaar[:-1])\n",
    "    CU_candidates[naam] = {\n",
    "        'positie': positie.strip(),\n",
    "        'plaats': plaats,\n",
    "        \"jaar\": jaar,\n",
    "        \"CV\": CV\n",
    "    }"
   ]
  },
  {
   "cell_type": "markdown",
   "metadata": {},
   "source": [
    "# CDA"
   ]
  },
  {
   "cell_type": "code",
   "execution_count": 137,
   "metadata": {
    "scrolled": true
   },
   "outputs": [
    {
     "name": "stdout",
     "output_type": "stream",
     "text": [
      "Downloading new page\n"
     ]
    }
   ],
   "source": [
    "filename = 'candidates_CDA_page_20201115.html'\n",
    "url = 'https://www.cda.nl/kandidaten-2021'\n",
    "\n",
    "CDA_tree = html.fromstring(load_and_save_page(filename, url))"
   ]
  },
  {
   "cell_type": "code",
   "execution_count": 23,
   "metadata": {},
   "outputs": [],
   "source": [
    "CDA_candidate_divs = CDA_tree.xpath('//a[@class=\"person\"]')"
   ]
  },
  {
   "cell_type": "code",
   "execution_count": 157,
   "metadata": {},
   "outputs": [],
   "source": [
    "CDA_candidates = {}\n",
    "for div in CDA_candidate_divs:\n",
    "    naam = div.xpath('h3/span/text()')[0].replace('\\t', ' ')\n",
    "    positie_plaats = div.xpath('h4/span/text()')\n",
    "    positie_plaats = remove_punctuation(*positie_plaats)[0].split()\n",
    "    positie = positie_plaats[0]\n",
    "    plaats = \" \".join(positie_plaats[1:])\n",
    "    CDA_candidates[naam] = {\n",
    "        'positie': positie.strip(),\n",
    "        'plaats': plaats,\n",
    "    }"
   ]
  },
  {
   "cell_type": "markdown",
   "metadata": {},
   "source": [
    "# D66"
   ]
  },
  {
   "cell_type": "code",
   "execution_count": 138,
   "metadata": {
    "scrolled": true
   },
   "outputs": [
    {
     "name": "stdout",
     "output_type": "stream",
     "text": [
      "Downloading new page\n"
     ]
    }
   ],
   "source": [
    "filename = \"candidates_D66_20201115.pdf\"\n",
    "url = \"https://d66.nl/wp-content/uploads/2020/11/D66_Advieslijst_TK2021.pdf\"\n",
    "\n",
    "_ = load_and_save_page(filename, url)"
   ]
  },
  {
   "cell_type": "code",
   "execution_count": 139,
   "metadata": {},
   "outputs": [],
   "source": [
    "pdf = pdfx.PDFx(filename)\n",
    "text = pdf.get_text().split('\\n')"
   ]
  },
  {
   "cell_type": "code",
   "execution_count": 140,
   "metadata": {},
   "outputs": [],
   "source": [
    "D66_candidates = {}\n",
    "ix = 0\n",
    "positie = 1\n",
    "name_part = None\n",
    "for line in text[16:]:\n",
    "    if line == '' or '.' in line or '\\x0c' in line:\n",
    "        continue\n",
    "    elif line in ['Marijke van ', 'Hind ', 'Marleen ', 'Ojanne ', 'Emma Laurijssens ']:\n",
    "        name_part = line\n",
    "    elif ix == 0:\n",
    "        if name_part is not None:\n",
    "            naam = name_part + line\n",
    "            name_part = None\n",
    "        else:\n",
    "            naam = line\n",
    "        D66_candidates[naam] = {'positie': positie}\n",
    "        positie += 1\n",
    "        ix += 1\n",
    "    elif ix == 1:\n",
    "        D66_candidates[naam]['plaats'] = line.strip()\n",
    "        ix += 1\n",
    "    elif ix == 2:\n",
    "        try:\n",
    "            D66_candidates[naam]['leeftijd'] = line.split()[0]\n",
    "        except:\n",
    "            print(naam)\n",
    "            print(line)\n",
    "        ix = 0\n",
    "\n",
    "# fix order, pdf sucks\n",
    "for naam, candidate in D66_candidates.items():\n",
    "    if 6 <= candidate['positie'] < 12:\n",
    "        candidate['positie'] += 1\n",
    "    if 23 <= candidate['positie'] < 34:\n",
    "        candidate['positie'] += 2\n",
    "    if 29 <= candidate['positie'] <= 32:\n",
    "        candidate['positie'] += 2\n",
    "    if 57 <= candidate['positie'] <= 61:\n",
    "        candidate['positie'] -= 1\n",
    "D66_candidates['Steven van Weyenberg']['positie'] = 6\n",
    "D66_candidates['Alexander Hammelburg']['positie'] = 23\n",
    "D66_candidates['Rens Raemakers']['positie'] = 24\n",
    "D66_candidates['Sjoerd Warmerdam']['positie'] = 29\n",
    "D66_candidates['Hind Dekker-Abdulaziz']['positie'] = 30\n",
    "D66_candidates['Bas de Leeuw']['positie'] = 61"
   ]
  },
  {
   "cell_type": "markdown",
   "metadata": {},
   "source": [
    "# GroenLinks"
   ]
  },
  {
   "cell_type": "code",
   "execution_count": 142,
   "metadata": {},
   "outputs": [
    {
     "name": "stdout",
     "output_type": "stream",
     "text": [
      "Downloading new page\n"
     ]
    }
   ],
   "source": [
    "url = \"https://groenlinks.nl/nieuws/groenlinks-presenteert-team-voor-verandering-2021\"\n",
    "filename = \"candidates_GL_20201115.html\"\n",
    "\n",
    "GL_tree = html.fromstring(load_and_save_page(filename, url))"
   ]
  },
  {
   "cell_type": "code",
   "execution_count": 181,
   "metadata": {},
   "outputs": [],
   "source": [
    "GL_candidates = {}\n",
    "for candidate in GL_tree.xpath('//main/div/div/div/div/p/text()')[5:]:\n",
    "    positie, *naam_CV = candidate.split(sep='.')\n",
    "    naam_CV = '.'.join(naam_CV)  # one typo, . instead of ,\n",
    "    naam, *CV = naam_CV.split(sep=',')\n",
    "    if len(CV) == 0:             # again because of same typo\n",
    "        naam, *CV = naam_CV.split(sep='.')\n",
    "    CV = ','.join(CV)\n",
    "    GL_candidates[naam.strip()] = {\n",
    "        \"positie\": int(positie.strip()),\n",
    "        \"CV\": CV.strip()\n",
    "    }"
   ]
  },
  {
   "cell_type": "code",
   "execution_count": null,
   "metadata": {},
   "outputs": [],
   "source": []
  }
 ],
 "metadata": {
  "kernelspec": {
   "display_name": "Python 3",
   "language": "python",
   "name": "python3"
  },
  "language_info": {
   "codemirror_mode": {
    "name": "ipython",
    "version": 3
   },
   "file_extension": ".py",
   "mimetype": "text/x-python",
   "name": "python",
   "nbconvert_exporter": "python",
   "pygments_lexer": "ipython3",
   "version": "3.8.2"
  }
 },
 "nbformat": 4,
 "nbformat_minor": 4
}
