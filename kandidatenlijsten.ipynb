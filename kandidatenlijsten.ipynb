{
 "cells": [
  {
   "cell_type": "markdown",
   "metadata": {},
   "source": [
    "In this notebook, I'm going to be collecting the candidate lists of Dutch parties for the 2021 pariamentary elections. In no particular order, just guided by availability, Google hit priority and also driven primarily by the parties in the Peilingwijzer."
   ]
  },
  {
   "cell_type": "markdown",
   "metadata": {},
   "source": [
    "# CU"
   ]
  },
  {
   "cell_type": "code",
   "execution_count": null,
   "metadata": {},
   "outputs": [],
   "source": [
    "import requests\n",
    "from lxml import html\n",
    "import pdfx\n",
    "import re\n",
    "import numpy as np\n",
    "import pandas as pd\n",
    "\n",
    "import pickle"
   ]
  },
  {
   "cell_type": "code",
   "execution_count": null,
   "metadata": {},
   "outputs": [],
   "source": [
    "def load_and_save_page(filename, url):\n",
    "    try:\n",
    "        with open(filename, 'rb') as fh:\n",
    "            page = fh.read()\n",
    "    except FileNotFoundError:\n",
    "        print(\"Downloading new page\")\n",
    "        page = requests.get(url).content\n",
    "        with open(filename, 'wb') as fh:\n",
    "            fh.write(page)\n",
    "    return page"
   ]
  },
  {
   "cell_type": "code",
   "execution_count": null,
   "metadata": {},
   "outputs": [],
   "source": [
    "filename = 'candidates_CU_page_20201115.html'\n",
    "url = 'https://www.christenunie.nl/kandidatenlijst'\n",
    "\n",
    "CU_tree = html.fromstring(load_and_save_page(filename, url))"
   ]
  },
  {
   "cell_type": "code",
   "execution_count": null,
   "metadata": {},
   "outputs": [],
   "source": [
    "CU_candidate_divs = CU_tree.xpath('//div[@class=\"col column2\"]')"
   ]
  },
  {
   "cell_type": "code",
   "execution_count": null,
   "metadata": {},
   "outputs": [],
   "source": [
    "def remove_punctuation(*strings):\n",
    "    output = []\n",
    "    punctuation = \"(),.|#\"\n",
    "    for string in strings:\n",
    "        for char in punctuation:\n",
    "            string = string.replace(char, '')\n",
    "        output.append(string)\n",
    "#     spaces = \"\\xa0\\xb0\"\n",
    "#     strings = output\n",
    "#     output = []\n",
    "#     for string in strings:\n",
    "#         for char in spaces:\n",
    "#             string = string.replace(char, ' ')\n",
    "#         output.append(string)\n",
    "    return output"
   ]
  },
  {
   "cell_type": "code",
   "execution_count": null,
   "metadata": {},
   "outputs": [],
   "source": [
    "CU_candidates = {}\n",
    "for div in CU_candidate_divs:\n",
    "    naam = div.xpath('p/strong/text()')[0]\n",
    "    positie, plaats_jaar, CV = div.xpath('p/text()')\n",
    "    positie, plaats_jaar = remove_punctuation(positie, plaats_jaar)\n",
    "    plaats_jaar = plaats_jaar.strip().split()\n",
    "    jaar = plaats_jaar[-1]\n",
    "    plaats = \" \".join(plaats_jaar[:-1])\n",
    "    CU_candidates[naam] = {\n",
    "        'positie': positie.strip(),\n",
    "        'plaats': plaats,\n",
    "        \"jaar\": jaar,\n",
    "        \"CV\": CV\n",
    "    }"
   ]
  },
  {
   "cell_type": "markdown",
   "metadata": {},
   "source": [
    "# CDA"
   ]
  },
  {
   "cell_type": "code",
   "execution_count": null,
   "metadata": {},
   "outputs": [],
   "source": [
    "filename = 'candidates_CDA_page_20201115.html'\n",
    "url = 'https://www.cda.nl/kandidaten-2021'\n",
    "\n",
    "CDA_tree = html.fromstring(load_and_save_page(filename, url))"
   ]
  },
  {
   "cell_type": "code",
   "execution_count": null,
   "metadata": {},
   "outputs": [],
   "source": [
    "CDA_candidate_divs = CDA_tree.xpath('//a[@class=\"person\"]')"
   ]
  },
  {
   "cell_type": "code",
   "execution_count": null,
   "metadata": {},
   "outputs": [],
   "source": [
    "CDA_candidates = {}\n",
    "for div in CDA_candidate_divs:\n",
    "    naam = div.xpath('h3/span/text()')[0].replace('\\t', ' ')\n",
    "    positie_plaats = div.xpath('h4/span/text()')\n",
    "    positie_plaats = remove_punctuation(*positie_plaats)[0].split()\n",
    "    positie = positie_plaats[0]\n",
    "    plaats = \" \".join(positie_plaats[1:])\n",
    "    CDA_candidates[naam] = {\n",
    "        'positie': positie.strip(),\n",
    "        'plaats': plaats,\n",
    "    }"
   ]
  },
  {
   "cell_type": "markdown",
   "metadata": {},
   "source": [
    "# D66"
   ]
  },
  {
   "cell_type": "code",
   "execution_count": null,
   "metadata": {},
   "outputs": [],
   "source": [
    "filename = \"candidates_D66_20201115.pdf\"\n",
    "url = \"https://d66.nl/wp-content/uploads/2020/11/D66_Advieslijst_TK2021.pdf\"\n",
    "\n",
    "_ = load_and_save_page(filename, url)"
   ]
  },
  {
   "cell_type": "code",
   "execution_count": null,
   "metadata": {},
   "outputs": [],
   "source": [
    "pdf = pdfx.PDFx(filename)\n",
    "text = pdf.get_text().split('\\n')"
   ]
  },
  {
   "cell_type": "code",
   "execution_count": null,
   "metadata": {},
   "outputs": [],
   "source": [
    "D66_candidates = {}\n",
    "ix = 0\n",
    "positie = 1\n",
    "name_part = None\n",
    "for line in text[16:]:\n",
    "    if line == '' or '.' in line or '\\x0c' in line:\n",
    "        continue\n",
    "    elif line in ['Marijke van ', 'Hind ', 'Marleen ', 'Ojanne ', 'Emma Laurijssens ']:\n",
    "        name_part = line\n",
    "    elif ix == 0:\n",
    "        if name_part is not None:\n",
    "            naam = name_part + line\n",
    "            name_part = None\n",
    "        else:\n",
    "            naam = line\n",
    "        D66_candidates[naam] = {'positie': positie}\n",
    "        positie += 1\n",
    "        ix += 1\n",
    "    elif ix == 1:\n",
    "        D66_candidates[naam]['plaats'] = line.strip()\n",
    "        ix += 1\n",
    "    elif ix == 2:\n",
    "        leeftijd = line.split()[0]\n",
    "        D66_candidates[naam]['jaar'] = 2020 - int(leeftijd) # good enough estimate\n",
    "        ix = 0\n",
    "\n",
    "# fix order, pdf sucks\n",
    "for naam, candidate in D66_candidates.items():\n",
    "    if 6 <= candidate['positie'] < 12:\n",
    "        candidate['positie'] += 1\n",
    "    if 23 <= candidate['positie'] < 34:\n",
    "        candidate['positie'] += 2\n",
    "    if 29 <= candidate['positie'] <= 32:\n",
    "        candidate['positie'] += 2\n",
    "    if 57 <= candidate['positie'] <= 61:\n",
    "        candidate['positie'] -= 1\n",
    "D66_candidates['Steven van Weyenberg']['positie'] = 6\n",
    "D66_candidates['Alexander Hammelburg']['positie'] = 23\n",
    "D66_candidates['Rens Raemakers']['positie'] = 24\n",
    "D66_candidates['Sjoerd Warmerdam']['positie'] = 29\n",
    "D66_candidates['Hind Dekker-Abdulaziz']['positie'] = 30\n",
    "D66_candidates['Bas de Leeuw']['positie'] = 61"
   ]
  },
  {
   "cell_type": "markdown",
   "metadata": {},
   "source": [
    "# GroenLinks"
   ]
  },
  {
   "cell_type": "code",
   "execution_count": null,
   "metadata": {},
   "outputs": [],
   "source": [
    "url = \"https://groenlinks.nl/nieuws/groenlinks-presenteert-team-voor-verandering-2021\"\n",
    "filename = \"candidates_GL_20201115.html\"\n",
    "\n",
    "GL_tree = html.fromstring(load_and_save_page(filename, url))"
   ]
  },
  {
   "cell_type": "code",
   "execution_count": null,
   "metadata": {},
   "outputs": [],
   "source": [
    "GL_candidates = {}\n",
    "for candidate in GL_tree.xpath('//main/div/div/div/div/p/text()')[5:]:\n",
    "    positie, *naam_CV = candidate.split(sep='.')\n",
    "    naam_CV = '.'.join(naam_CV)  # one typo, . instead of ,\n",
    "    naam, *CV = naam_CV.split(sep=',')\n",
    "    if len(CV) == 0:             # again because of same typo\n",
    "        naam, *CV = naam_CV.split(sep='.')\n",
    "    CV = ','.join(CV)\n",
    "    GL_candidates[naam.strip()] = {\n",
    "        \"positie\": int(positie.strip()),\n",
    "        \"CV\": CV.strip()\n",
    "    }"
   ]
  },
  {
   "cell_type": "markdown",
   "metadata": {},
   "source": [
    "# SP"
   ]
  },
  {
   "cell_type": "code",
   "execution_count": null,
   "metadata": {},
   "outputs": [],
   "source": [
    "url = \"https://www.sp.nl/nieuws/2020/09/concept-kandidatenlijst-tweede-kamer-2021\"\n",
    "filename = \"candidates_SP_20201115.html\"\n",
    "\n",
    "SP_tree = html.fromstring(load_and_save_page(filename, url))"
   ]
  },
  {
   "cell_type": "code",
   "execution_count": null,
   "metadata": {},
   "outputs": [],
   "source": [
    "CVs1_25_and_26_50[25:]"
   ]
  },
  {
   "cell_type": "code",
   "execution_count": null,
   "metadata": {},
   "outputs": [],
   "source": [
    "positie_naam_1_25 = SP_tree.xpath('//div[@class=\"field-item even\"]/h3/text()')\n",
    "plaats_jaar_1_25 = SP_tree.xpath('//div[@class=\"field-item even\"]/p/strong/text()')\n",
    "CVs1_25_and_26_50 = [a for a in SP_tree.xpath('//div[@class=\"field-item even\"]/p/text()')[-70:] if a != '\\xa0']\n",
    "\n",
    "SP_candidates = {}\n",
    "for candidate in zip(positie_naam_1_25, plaats_jaar_1_25, CVs1_25_and_26_50[:25]):\n",
    "    positie, *naam = remove_punctuation(*candidate[0].split())\n",
    "    naam = \" \".join(naam)\n",
    "    *plaats, jaar = remove_punctuation(*candidate[1].split())\n",
    "    plaats = \" \".join(plaats)\n",
    "    SP_candidates[naam] = {\n",
    "        'positie': positie,\n",
    "        'plaats': plaats,\n",
    "        'jaar': jaar,\n",
    "        'CV': candidate[2]\n",
    "    }\n",
    "\n",
    "for candidate in CVs1_25_and_26_50[25:]:\n",
    "    try:\n",
    "        positie_naam, plaats_jaar = candidate.split(sep='(')\n",
    "    except ValueError:\n",
    "        continue\n",
    "    positie, *naam = positie_naam.replace('\\xa0', '').split()\n",
    "    naam = \" \".join(naam)\n",
    "    *plaats, jaar = remove_punctuation(*plaats_jaar.split())\n",
    "    plaats = \" \".join(plaats)\n",
    "    SP_candidates[naam] = {\n",
    "        'positie': positie,\n",
    "        'plaats': plaats,\n",
    "        'jaar': jaar,\n",
    "    }"
   ]
  },
  {
   "cell_type": "markdown",
   "metadata": {},
   "source": [
    "# PvdD"
   ]
  },
  {
   "cell_type": "code",
   "execution_count": null,
   "metadata": {},
   "outputs": [],
   "source": [
    "url = \"https://www.partijvoordedieren.nl/uploads/site/tweedekamer/Profielen-kandidaten-Tweede-Kamerverkiezingen-2021.pdf\"\n",
    "filename = \"candidates_PvdD_20201115.pdf\"\n",
    "\n",
    "_ = load_and_save_page(filename, url)\n",
    "\n",
    "pdf = pdfx.PDFx(filename)"
   ]
  },
  {
   "cell_type": "code",
   "execution_count": null,
   "metadata": {},
   "outputs": [],
   "source": [
    "PvdD_text = pdf.get_text().split('\\n')\n",
    "PvdD_text = [a.strip() for a in PvdD_text if a not in ['', ' ', '\\x0c ', '\\x0c']\n",
    "                                          and 'Partijcongres PvdD 12' not in a\n",
    "                                          and '/4' not in a][2:]"
   ]
  },
  {
   "cell_type": "code",
   "execution_count": null,
   "metadata": {},
   "outputs": [],
   "source": [
    "PvdD_candidates = {}\n",
    "for line in PvdD_text:\n",
    "    if 'geboren' in line and 'woonplaats' in line:\n",
    "        CV = \"\"\n",
    "        positie, *rest = line.split(sep='.')\n",
    "        naam, *rest = \".\".join(rest).split(sep='(')\n",
    "        naam = naam.strip()\n",
    "        jaar, *plaats = \"(\".join(rest).split(sep=',')\n",
    "        jaar = jaar.split()[1]\n",
    "        plaats = remove_punctuation(\" \".join(','.join(plaats).split()[1:]))[0]\n",
    "        PvdD_candidates[naam] = {\n",
    "            'positie': positie,\n",
    "            'jaar': jaar,\n",
    "            'plaats': plaats\n",
    "        }\n",
    "    else:\n",
    "        CV += \" \" + line\n",
    "        PvdD_candidates[naam]['CV'] = CV.strip()"
   ]
  },
  {
   "cell_type": "markdown",
   "metadata": {},
   "source": [
    "# FvD"
   ]
  },
  {
   "cell_type": "code",
   "execution_count": null,
   "metadata": {},
   "outputs": [],
   "source": [
    "url = \"https://www.fvd.nl/lijst\"\n",
    "filename = \"candidates_FvD_20201115.html\"\n",
    "\n",
    "FvD_tree = html.fromstring(load_and_save_page(filename, url))"
   ]
  },
  {
   "cell_type": "code",
   "execution_count": null,
   "metadata": {},
   "outputs": [],
   "source": [
    "FvD_candidates = {}\n",
    "for candidate in FvD_tree.xpath('//div[@class=\"bio-container\"]'):\n",
    "    positie, *naam = candidate.xpath('div/div[@class=\"tk-lijst-naam\"]/text()')[0].strip().split()\n",
    "    positie = remove_punctuation(positie)[0]\n",
    "    naam = \" \".join(naam)\n",
    "    CV = \"\".join(candidate.xpath('div[@class=\"tk-lijst-tekst\"]/b/text()')\n",
    "                  + candidate.xpath('div[@class=\"tk-lijst-tekst\"]/text()'))\n",
    "    jaar = re.search(\"\\((\\d+)\\)\", CV).group(1)\n",
    "    FvD_candidates[naam] = {\n",
    "        'positie': positie,\n",
    "        'jaar': jaar,\n",
    "        'CV': CV\n",
    "    }"
   ]
  },
  {
   "cell_type": "markdown",
   "metadata": {},
   "source": [
    "# Denk"
   ]
  },
  {
   "cell_type": "code",
   "execution_count": null,
   "metadata": {},
   "outputs": [],
   "source": [
    "# not announced yet\n",
    "Denk_candidates = {\n",
    "    'Farid Azarkan': {\n",
    "        'positie': 1,\n",
    "        'plaats': \"Culemborg\",\n",
    "        'CV': 'lid Tweede Kamer'\n",
    "    }\n",
    "}"
   ]
  },
  {
   "cell_type": "markdown",
   "metadata": {},
   "source": [
    "# 50PLUS"
   ]
  },
  {
   "cell_type": "code",
   "execution_count": null,
   "metadata": {},
   "outputs": [],
   "source": [
    "# not announced yet\n",
    "_50PLUS_candidates = {\n",
    "    'Liane den Haan': {\n",
    "        'positie': 1,\n",
    "        'plaats': \"Woerden\",\n",
    "        'jaar': 1967,\n",
    "        'CV': 'directeur/bestuurder van ANBO'\n",
    "    }\n",
    "}"
   ]
  },
  {
   "cell_type": "markdown",
   "metadata": {},
   "source": [
    "# PvdT"
   ]
  },
  {
   "cell_type": "code",
   "execution_count": null,
   "metadata": {},
   "outputs": [],
   "source": [
    "# not announced yet, not even the front runner... so this is just a guess\n",
    "PvdT_candidates = {\n",
    "    'Henk Otten': {\n",
    "        'positie': 1,\n",
    "        'jaar': 1967,\n",
    "#         'plaats': \"\",\n",
    "        'CV': 'lid Eerste Kamer'\n",
    "    }\n",
    "}"
   ]
  },
  {
   "cell_type": "markdown",
   "metadata": {},
   "source": [
    "# PVV"
   ]
  },
  {
   "cell_type": "code",
   "execution_count": null,
   "metadata": {},
   "outputs": [],
   "source": [
    "# not announced yet\n",
    "PVV_candidates = {\n",
    "    'Geert Wilders': {\n",
    "        'positie': 1,\n",
    "        'jaar': 1963,\n",
    "        'plaats': \"Den Haag\",\n",
    "        'CV': 'fractievoorzitter'\n",
    "    }\n",
    "}"
   ]
  },
  {
   "cell_type": "markdown",
   "metadata": {},
   "source": [
    "# VVD"
   ]
  },
  {
   "cell_type": "code",
   "execution_count": null,
   "metadata": {},
   "outputs": [],
   "source": [
    "url = \"https://www.vvd.nl/kandidatenlijst-tweede-kamerverkiezingen/\"\n",
    "# not yet announced on 15 Nov 2020\n",
    "VVD_candidates = {\n",
    "    'Mark Rutte': {\n",
    "        'positie': 1,\n",
    "        'jaar': 1967,\n",
    "        'plaats': 'Den Haag',\n",
    "        'CV': 'minister-president'\n",
    "    }\n",
    "}"
   ]
  },
  {
   "cell_type": "markdown",
   "metadata": {},
   "source": [
    "# SGP"
   ]
  },
  {
   "cell_type": "code",
   "execution_count": null,
   "metadata": {},
   "outputs": [],
   "source": [
    "url = \"https://sgp.nl/actueel/nieuws/sgp-kandidatenlijst-vernieuwd-en-continuiteit\"\n",
    "# not accessible on Sundays (which today, 15 Nov 2020, is)\n",
    "SGP_candidates = {\n",
    "    'Kees van der Staaij': {\n",
    "        'positie': 1,\n",
    "        'jaar': 1968,\n",
    "        'plaats': 'Benthuizen',\n",
    "        'CV': 'fractievoorzitter'\n",
    "    }\n",
    "}"
   ]
  },
  {
   "cell_type": "markdown",
   "metadata": {},
   "source": [
    "# PvdA"
   ]
  },
  {
   "cell_type": "code",
   "execution_count": null,
   "metadata": {},
   "outputs": [],
   "source": [
    "# not announced yet\n",
    "PvdA_candidates = {\n",
    "    'Lodewijk Asscher': {\n",
    "        'positie': 1,\n",
    "        'jaar': 1974,\n",
    "        'plaats': \"Amsterdam\",\n",
    "        'CV': 'fractievoorzitter'\n",
    "    }\n",
    "}"
   ]
  },
  {
   "cell_type": "markdown",
   "metadata": {},
   "source": [
    "# Put it all together"
   ]
  },
  {
   "cell_type": "code",
   "execution_count": null,
   "metadata": {},
   "outputs": [],
   "source": [
    "parties = ['VVD', 'PVV', 'CDA', 'D66', 'GL', 'SP', 'PvdA', 'CU', 'PvdD', '50PLUS', 'SGP', 'Denk', 'FvD', 'PvdT']"
   ]
  },
  {
   "cell_type": "code",
   "execution_count": null,
   "metadata": {},
   "outputs": [],
   "source": [
    "all_candidates = pd.DataFrame()\n",
    "\n",
    "for party in parties:\n",
    "    if party != '50PLUS':\n",
    "        party_candidates = eval(party + '_candidates')\n",
    "    else:\n",
    "        party_candidates = _50PLUS_candidates\n",
    "\n",
    "    for naam, candidate in party_candidates.items():\n",
    "        candidate = candidate.copy()\n",
    "        try:\n",
    "            candidate[\"jaar\"] = int(candidate[\"jaar\"])\n",
    "        except KeyError:\n",
    "            pass\n",
    "        candidate[\"positie\"] = int(candidate[\"positie\"])\n",
    "        candidate[\"naam\"] = naam\n",
    "        candidate[\"partij\"] = party\n",
    "        all_candidates = all_candidates.append(candidate, ignore_index=True)"
   ]
  },
  {
   "cell_type": "code",
   "execution_count": null,
   "metadata": {},
   "outputs": [],
   "source": [
    "all_candidates"
   ]
  },
  {
   "cell_type": "code",
   "execution_count": null,
   "metadata": {},
   "outputs": [],
   "source": [
    "all_candidates.jaar.hist(bins=int(all_candidates.jaar.max()-all_candidates.jaar.min()+1))"
   ]
  },
  {
   "cell_type": "code",
   "execution_count": null,
   "metadata": {},
   "outputs": [],
   "source": [
    "import geocoder\n",
    "import ipyleaflet"
   ]
  },
  {
   "cell_type": "code",
   "execution_count": null,
   "metadata": {},
   "outputs": [],
   "source": [
    "amsterdam = geocoder.osm(\"Amsterdam\")"
   ]
  },
  {
   "cell_type": "code",
   "execution_count": null,
   "metadata": {},
   "outputs": [],
   "source": [
    "amsterdam.json['lat'], amsterdam.json['lng']"
   ]
  },
  {
   "cell_type": "code",
   "execution_count": null,
   "metadata": {},
   "outputs": [],
   "source": [
    "plaatsen = {}"
   ]
  },
  {
   "cell_type": "code",
   "execution_count": null,
   "metadata": {},
   "outputs": [],
   "source": [
    "import tqdm.notebook as tqdm"
   ]
  },
  {
   "cell_type": "code",
   "execution_count": null,
   "metadata": {},
   "outputs": [],
   "source": [
    "for plaats in tqdm.tqdm(all_candidates.plaats):\n",
    "    if plaats and not plaatsen.get(plaats):\n",
    "        plaatsen[plaats] = geocoder.osm(plaats)\n",
    "del plaatsen[np.nan]\n",
    "plaatsen['Borne'] = geocoder.osm('Borne, Nederland')\n",
    "plaatsen['Goes'] = geocoder.osm('Goes, NL')\n",
    "plaatsen['Elburg'] = geocoder.osm('Elburg, NL')\n",
    "plaatsen['Warten gemeente Leeuwarden'] = geocoder.osm('Warten, Leeuwarden')\n",
    "plaatsen['Sint Maarten'] = geocoder.osm(\"Sint Maarten (Nederland)\")"
   ]
  },
  {
   "cell_type": "code",
   "execution_count": null,
   "metadata": {},
   "outputs": [],
   "source": [
    "for plaatsnaam, data in plaatsen.items():\n",
    "    try:\n",
    "        if data.json[\"country_code\"] != 'nl':\n",
    "            print(plaatsnaam)\n",
    "    except:\n",
    "        print(plaatsnaam)"
   ]
  },
  {
   "cell_type": "code",
   "execution_count": null,
   "metadata": {},
   "outputs": [],
   "source": [
    "center = (52.15371445951162, 5.943603515625001)\n",
    "\n",
    "kaart = ipyleaflet.Map(center=center, zoom=7)\n",
    "\n",
    "for ix, candidate in all_candidates.iterrows():\n",
    "    if plaatsen.get(candidate.plaats):\n",
    "        plaats = plaatsen[candidate.plaats] \n",
    "        marker = ipyleaflet.Marker(location=(plaats.json['lat'], plaats.json['lng']))\n",
    "        kaart.add_layer(marker)\n",
    "\n",
    "display(kaart)"
   ]
  },
  {
   "cell_type": "code",
   "execution_count": null,
   "metadata": {},
   "outputs": [],
   "source": [
    "plaatsen_json = {plaatsnaam: plaats.json for plaatsnaam, plaats in plaatsen.items()}"
   ]
  },
  {
   "cell_type": "code",
   "execution_count": null,
   "metadata": {},
   "outputs": [],
   "source": [
    "with open('candidates.pkl', 'wb') as fh:\n",
    "    pickle.dump(all_candidates.to_dict(), fh)\n",
    "with open('candidate_plaatsen.pkl', 'wb') as fh:\n",
    "    pickle.dump(plaatsen_json, fh)"
   ]
  },
  {
   "cell_type": "code",
   "execution_count": null,
   "metadata": {},
   "outputs": [],
   "source": []
  }
 ],
 "metadata": {
  "language_info": {
   "name": "python",
   "pygments_lexer": "ipython3"
  }
 },
 "nbformat": 4,
 "nbformat_minor": 4
}
