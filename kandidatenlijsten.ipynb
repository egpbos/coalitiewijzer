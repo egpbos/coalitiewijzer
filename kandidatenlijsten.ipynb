{
 "cells": [
  {
   "cell_type": "markdown",
   "metadata": {},
   "source": [
    "In this notebook, I'm going to be collecting the candidate lists of Dutch parties for the 2021 pariamentary elections. In no particular order, just guided by availability, Google hit priority and also driven primarily by the parties in the Peilingwijzer."
   ]
  },
  {
   "cell_type": "markdown",
   "metadata": {},
   "source": [
    "# CU"
   ]
  },
  {
   "cell_type": "code",
   "execution_count": 2,
   "metadata": {},
   "outputs": [],
   "source": [
    "import requests\n",
    "from lxml import html\n",
    "\n",
    "import pickle"
   ]
  },
  {
   "cell_type": "code",
   "execution_count": 16,
   "metadata": {},
   "outputs": [],
   "source": [
    "def load_and_save_page(filename, url):\n",
    "    try:\n",
    "        with open(filename, 'rb') as fh:\n",
    "            page = pickle.load(fh)\n",
    "    except FileNotFoundError:\n",
    "        print(\"Downloading new page\")\n",
    "        page = requests.get(url).content\n",
    "        with open(filename, 'wb') as fh:\n",
    "            pickle.dump(page, fh)\n",
    "    return page"
   ]
  },
  {
   "cell_type": "code",
   "execution_count": 10,
   "metadata": {},
   "outputs": [],
   "source": [
    "filename = 'candidates_CU_page_20201114.pkl'\n",
    "url = 'https://www.christenunie.nl/kandidatenlijst'\n",
    "\n",
    "CU_tree = html.fromstring(load_and_save_page(filename, url))"
   ]
  },
  {
   "cell_type": "code",
   "execution_count": 19,
   "metadata": {},
   "outputs": [],
   "source": [
    "CU_candidate_divs = CU_tree.xpath('//div[@class=\"col column2\"]')"
   ]
  },
  {
   "cell_type": "code",
   "execution_count": 39,
   "metadata": {},
   "outputs": [],
   "source": [
    "def remove_punctuation(*strings):\n",
    "    output = []\n",
    "    punctuation = \"(),.|#\"\n",
    "    for string in strings:\n",
    "        for char in punctuation:\n",
    "            string = string.replace(char, '')\n",
    "        output.append(string)\n",
    "    return output"
   ]
  },
  {
   "cell_type": "code",
   "execution_count": 42,
   "metadata": {},
   "outputs": [],
   "source": [
    "CU_candidates = {}\n",
    "for div in CU_candidate_divs:\n",
    "    naam = div.xpath('p/strong/text()')[0]\n",
    "    positie, plaats_jaar, CV = div.xpath('p/text()')\n",
    "    positie, plaats_jaar = remove_punctuation(positie, plaats_jaar)\n",
    "    plaats_jaar = plaats_jaar.strip().split()\n",
    "    jaar = plaats_jaar[-1]\n",
    "    plaats = \" \".join(plaats_jaar[:-1])\n",
    "    CU_candidates[naam] = {\n",
    "        'positie': positie.strip(),\n",
    "        'plaats': plaats,\n",
    "        \"jaar\": jaar,\n",
    "        \"CV\": CV\n",
    "    }"
   ]
  },
  {
   "cell_type": "markdown",
   "metadata": {},
   "source": [
    "# CDA"
   ]
  },
  {
   "cell_type": "code",
   "execution_count": 17,
   "metadata": {
    "scrolled": true
   },
   "outputs": [
    {
     "name": "stdout",
     "output_type": "stream",
     "text": [
      "Downloading new page\n"
     ]
    }
   ],
   "source": [
    "filename = 'candidates_CDA_page_20201114.pkl'\n",
    "url = 'https://www.cda.nl/kandidaten-2021'\n",
    "\n",
    "CDA_tree = html.fromstring(load_and_save_page(filename, url))"
   ]
  },
  {
   "cell_type": "code",
   "execution_count": 23,
   "metadata": {},
   "outputs": [],
   "source": [
    "CDA_candidate_divs = CDA_tree.xpath('//a[@class=\"person\"]')"
   ]
  },
  {
   "cell_type": "code",
   "execution_count": 51,
   "metadata": {},
   "outputs": [],
   "source": [
    "CDA_candidates = {}\n",
    "for div in CDA_candidate_divs:\n",
    "    naam = div.xpath('h3/span/text()')[0].replace('\\t', ' ')\n",
    "    positie_plaats = div.xpath('h4/span/text()')\n",
    "    positie_plaats = remove_punctuation(*positie_plaats)[0].split()\n",
    "    positie = positie_plaats[0]\n",
    "    plaats = \" \".join(positie_plaats[1:])\n",
    "    CDA_candidates[naam] = {\n",
    "        'positie': positie.strip(),\n",
    "        'plaats': plaats,\n",
    "    }"
   ]
  },
  {
   "cell_type": "markdown",
   "metadata": {},
   "source": [
    "# D66"
   ]
  },
  {
   "cell_type": "code",
   "execution_count": 53,
   "metadata": {},
   "outputs": [],
   "source": [
    "import pdfx"
   ]
  },
  {
   "cell_type": "code",
   "execution_count": 55,
   "metadata": {},
   "outputs": [],
   "source": [
    "filename = \"D66.pdf\"\n",
    "url = \"https://d66.nl/wp-content/uploads/2020/11/D66_Advieslijst_TK2021.pdf\""
   ]
  },
  {
   "cell_type": "code",
   "execution_count": 56,
   "metadata": {},
   "outputs": [],
   "source": [
    "pdf = requests.get(url).content\n",
    "with open(filename, 'wb') as fh:\n",
    "    pickle.dump(pdf, fh)"
   ]
  },
  {
   "cell_type": "code",
   "execution_count": 65,
   "metadata": {},
   "outputs": [],
   "source": [
    "pdf = pdfx.PDFx(filename)\n",
    "text = pdf.get_text().split('\\n')"
   ]
  },
  {
   "cell_type": "code",
   "execution_count": 120,
   "metadata": {},
   "outputs": [],
   "source": [
    "D66_candidates = {}\n",
    "ix = 0\n",
    "positie = 1\n",
    "name_part = None\n",
    "for line in text[16:]:\n",
    "    if line == '' or '.' in line or '\\x0c' in line:\n",
    "        continue\n",
    "    elif line in ['Marijke van ', 'Hind ', 'Marleen ', 'Ojanne ', 'Emma Laurijssens ']:\n",
    "        name_part = line\n",
    "    elif ix == 0:\n",
    "        if name_part is not None:\n",
    "            naam = name_part + line\n",
    "            name_part = None\n",
    "        else:\n",
    "            naam = line\n",
    "        D66_candidates[naam] = {'positie': positie}\n",
    "        positie += 1\n",
    "        ix += 1\n",
    "    elif ix == 1:\n",
    "        D66_candidates[naam]['plaats'] = line.strip()\n",
    "        ix += 1\n",
    "    elif ix == 2:\n",
    "        try:\n",
    "            D66_candidates[naam]['leeftijd'] = line.split()[0]\n",
    "        except:\n",
    "            print(naam)\n",
    "            print(line)\n",
    "        ix = 0\n",
    "\n",
    "# fix order, pdf sucks\n",
    "for naam, candidate in D66_candidates.items():\n",
    "    if 6 <= candidate['positie'] < 12:\n",
    "        candidate['positie'] += 1\n",
    "    if 23 <= candidate['positie'] < 34:\n",
    "        candidate['positie'] += 2\n",
    "    if 29 <= candidate['positie'] <= 32:\n",
    "        candidate['positie'] += 2\n",
    "    if 57 <= candidate['positie'] <= 61:\n",
    "        candidate['positie'] -= 1\n",
    "D66_candidates['Steven van Weyenberg']['positie'] = 6\n",
    "D66_candidates['Alexander Hammelburg']['positie'] = 23\n",
    "D66_candidates['Rens Raemakers']['positie'] = 24\n",
    "D66_candidates['Sjoerd Warmerdam']['positie'] = 29\n",
    "D66_candidates['Hind Dekker-Abdulaziz']['positie'] = 30\n",
    "D66_candidates['Bas de Leeuw']['positie'] = 61"
   ]
  },
  {
   "cell_type": "code",
   "execution_count": null,
   "metadata": {},
   "outputs": [],
   "source": []
  }
 ],
 "metadata": {
  "kernelspec": {
   "display_name": "Python 3",
   "language": "python",
   "name": "python3"
  },
  "language_info": {
   "codemirror_mode": {
    "name": "ipython",
    "version": 3
   },
   "file_extension": ".py",
   "mimetype": "text/x-python",
   "name": "python",
   "nbconvert_exporter": "python",
   "pygments_lexer": "ipython3",
   "version": "3.8.2"
  }
 },
 "nbformat": 4,
 "nbformat_minor": 4
}
