{
 "cells": [
  {
   "cell_type": "markdown",
   "metadata": {},
   "source": [
    "In this notebook, I'm going to be collecting the candidate lists of Dutch parties for the 2021 pariamentary elections. In no particular order, just guided by availability, Google hit priority and also driven primarily by the parties in the Peilingwijzer."
   ]
  },
  {
   "cell_type": "markdown",
   "metadata": {},
   "source": [
    "# CU"
   ]
  },
  {
   "cell_type": "code",
   "execution_count": null,
   "metadata": {},
   "outputs": [],
   "source": [
    "import requests\n",
    "from lxml import html\n",
    "\n",
    "import pickle"
   ]
  },
  {
   "cell_type": "code",
   "execution_count": null,
   "metadata": {},
   "outputs": [],
   "source": [
    "filename = 'candidates_CU_page_20201114.pkl'\n",
    "\n",
    "try:\n",
    "    with open(filename, 'rb') as fh:\n",
    "        CU_page = pickle.load(fh)\n",
    "except FileNotFoundError:\n",
    "    print(\"Downloading new page\")\n",
    "    CU_page = requests.get('https://www.christenunie.nl/kandidatenlijst').content\n",
    "    with open(filename, 'wb') as fh:\n",
    "        pickle.dump(CU_page, fh)\n",
    "\n",
    "CU_tree = html.fromstring(CU_page)"
   ]
  },
  {
   "cell_type": "code",
   "execution_count": null,
   "metadata": {},
   "outputs": [],
   "source": [
    "CU_candidate_divs = CU_tree.xpath('//div[@class=\"col column2\"]')"
   ]
  },
  {
   "cell_type": "code",
   "execution_count": null,
   "metadata": {},
   "outputs": [],
   "source": [
    "def remove_punctuation(*strings):\n",
    "    output = []\n",
    "    punctuation = \"(),.\"\n",
    "    for string in strings:\n",
    "        for char in punctuation:\n",
    "            string = string.replace(char, '')\n",
    "        output.append(string)\n",
    "    return output"
   ]
  },
  {
   "cell_type": "code",
   "execution_count": null,
   "metadata": {},
   "outputs": [],
   "source": [
    "CU_candidate_divs[4].xpath('p/text()')"
   ]
  },
  {
   "cell_type": "code",
   "execution_count": null,
   "metadata": {},
   "outputs": [],
   "source": [
    "CU_candidates = {}\n",
    "for div in CU_candidate_divs:\n",
    "    positie, plaats_jaar, CV = div.xpath('p/text()')\n",
    "    positie, plaats_jaar = remove_punctuation(positie, plaats_jaar)\n",
    "    plaats_jaar = plaats_jaar.strip().split()\n",
    "    jaar = plaats_jaar[-1]\n",
    "    plaats = \" \".join(plaats_jaar[:-1])\n",
    "    CU_candidates[div.xpath('p/strong/text()')[0]] = {\n",
    "        'positie': positie.strip(),\n",
    "        'plaats': plaats,\n",
    "        \"jaar\": jaar,\n",
    "        \"CV\": CV\n",
    "    }"
   ]
  },
  {
   "cell_type": "markdown",
   "metadata": {},
   "source": [
    "# CDA"
   ]
  },
  {
   "cell_type": "code",
   "execution_count": null,
   "metadata": {},
   "outputs": [],
   "source": [
    "def load_and_save_page(filename, url):\n",
    "    try:\n",
    "        with open(filename, 'rb') as fh:\n",
    "            page = pickle.load(fh)\n",
    "    except FileNotFoundError:\n",
    "        print(\"Downloading new page\")\n",
    "        page = requests.get(url).content\n",
    "        with open(filename, 'wb') as fh:\n",
    "            pickle.dump(page, fh)\n",
    "    return page"
   ]
  },
  {
   "cell_type": "code",
   "execution_count": null,
   "metadata": {},
   "outputs": [],
   "source": [
    "filename = 'candidates_CDA_page_20201114.pkl'\n",
    "url = 'https://www.cda.nl/kandidaten-2021'\n",
    "\n",
    "CDA_tree = html.fromstring(load_and_save_page(filename, url))"
   ]
  },
  {
   "cell_type": "code",
   "execution_count": null,
   "metadata": {},
   "outputs": [],
   "source": []
  }
 ],
 "metadata": {
  "language_info": {
   "name": "python",
   "pygments_lexer": "ipython3"
  }
 },
 "nbformat": 4,
 "nbformat_minor": 4
}
