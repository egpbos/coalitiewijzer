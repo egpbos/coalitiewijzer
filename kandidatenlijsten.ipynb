{
 "cells": [
  {
   "cell_type": "markdown",
   "metadata": {},
   "source": [
    "In this notebook, I'm going to be collecting the candidate lists of Dutch parties for the 2021 pariamentary elections. In no particular order, just guided by availability, Google hit priority and also driven primarily by the parties in the Peilingwijzer."
   ]
  },
  {
   "cell_type": "markdown",
   "metadata": {},
   "source": [
    "# CU"
   ]
  },
  {
   "cell_type": "code",
   "execution_count": 528,
   "metadata": {},
   "outputs": [],
   "source": [
    "import requests\n",
    "from lxml import html\n",
    "import pdfx\n",
    "import re\n",
    "import numpy as np\n",
    "import pandas as pd\n",
    "\n",
    "import pickle"
   ]
  },
  {
   "cell_type": "code",
   "execution_count": 129,
   "metadata": {},
   "outputs": [],
   "source": [
    "def load_and_save_page(filename, url):\n",
    "    try:\n",
    "        with open(filename, 'rb') as fh:\n",
    "            page = fh.read()\n",
    "    except FileNotFoundError:\n",
    "        print(\"Downloading new page\")\n",
    "        page = requests.get(url).content\n",
    "        with open(filename, 'wb') as fh:\n",
    "            fh.write(page)\n",
    "    return page"
   ]
  },
  {
   "cell_type": "code",
   "execution_count": 132,
   "metadata": {},
   "outputs": [],
   "source": [
    "filename = 'candidates_CU_page_20201115.html'\n",
    "url = 'https://www.christenunie.nl/kandidatenlijst'\n",
    "\n",
    "CU_tree = html.fromstring(load_and_save_page(filename, url))"
   ]
  },
  {
   "cell_type": "code",
   "execution_count": 133,
   "metadata": {},
   "outputs": [],
   "source": [
    "CU_candidate_divs = CU_tree.xpath('//div[@class=\"col column2\"]')"
   ]
  },
  {
   "cell_type": "code",
   "execution_count": 161,
   "metadata": {},
   "outputs": [],
   "source": [
    "def remove_punctuation(*strings):\n",
    "    output = []\n",
    "    punctuation = \"(),.|#\"\n",
    "    for string in strings:\n",
    "        for char in punctuation:\n",
    "            string = string.replace(char, '')\n",
    "        output.append(string)\n",
    "#     spaces = \"\\xa0\\xb0\"\n",
    "#     strings = output\n",
    "#     output = []\n",
    "#     for string in strings:\n",
    "#         for char in spaces:\n",
    "#             string = string.replace(char, ' ')\n",
    "#         output.append(string)\n",
    "    return output"
   ]
  },
  {
   "cell_type": "code",
   "execution_count": 155,
   "metadata": {},
   "outputs": [],
   "source": [
    "CU_candidates = {}\n",
    "for div in CU_candidate_divs:\n",
    "    naam = div.xpath('p/strong/text()')[0]\n",
    "    positie, plaats_jaar, CV = div.xpath('p/text()')\n",
    "    positie, plaats_jaar = remove_punctuation(positie, plaats_jaar)\n",
    "    plaats_jaar = plaats_jaar.strip().split()\n",
    "    jaar = plaats_jaar[-1]\n",
    "    plaats = \" \".join(plaats_jaar[:-1])\n",
    "    CU_candidates[naam] = {\n",
    "        'positie': positie.strip(),\n",
    "        'plaats': plaats,\n",
    "        \"jaar\": jaar,\n",
    "        \"CV\": CV\n",
    "    }"
   ]
  },
  {
   "cell_type": "markdown",
   "metadata": {},
   "source": [
    "# CDA"
   ]
  },
  {
   "cell_type": "code",
   "execution_count": 137,
   "metadata": {
    "scrolled": true
   },
   "outputs": [
    {
     "name": "stdout",
     "output_type": "stream",
     "text": [
      "Downloading new page\n"
     ]
    }
   ],
   "source": [
    "filename = 'candidates_CDA_page_20201115.html'\n",
    "url = 'https://www.cda.nl/kandidaten-2021'\n",
    "\n",
    "CDA_tree = html.fromstring(load_and_save_page(filename, url))"
   ]
  },
  {
   "cell_type": "code",
   "execution_count": 23,
   "metadata": {},
   "outputs": [],
   "source": [
    "CDA_candidate_divs = CDA_tree.xpath('//a[@class=\"person\"]')"
   ]
  },
  {
   "cell_type": "code",
   "execution_count": 157,
   "metadata": {},
   "outputs": [],
   "source": [
    "CDA_candidates = {}\n",
    "for div in CDA_candidate_divs:\n",
    "    naam = div.xpath('h3/span/text()')[0].replace('\\t', ' ')\n",
    "    positie_plaats = div.xpath('h4/span/text()')\n",
    "    positie_plaats = remove_punctuation(*positie_plaats)[0].split()\n",
    "    positie = positie_plaats[0]\n",
    "    plaats = \" \".join(positie_plaats[1:])\n",
    "    CDA_candidates[naam] = {\n",
    "        'positie': positie.strip(),\n",
    "        'plaats': plaats,\n",
    "    }"
   ]
  },
  {
   "cell_type": "markdown",
   "metadata": {},
   "source": [
    "# D66"
   ]
  },
  {
   "cell_type": "code",
   "execution_count": 138,
   "metadata": {
    "scrolled": true
   },
   "outputs": [
    {
     "name": "stdout",
     "output_type": "stream",
     "text": [
      "Downloading new page\n"
     ]
    }
   ],
   "source": [
    "filename = \"candidates_D66_20201115.pdf\"\n",
    "url = \"https://d66.nl/wp-content/uploads/2020/11/D66_Advieslijst_TK2021.pdf\"\n",
    "\n",
    "_ = load_and_save_page(filename, url)"
   ]
  },
  {
   "cell_type": "code",
   "execution_count": 139,
   "metadata": {},
   "outputs": [],
   "source": [
    "pdf = pdfx.PDFx(filename)\n",
    "text = pdf.get_text().split('\\n')"
   ]
  },
  {
   "cell_type": "code",
   "execution_count": 393,
   "metadata": {},
   "outputs": [],
   "source": [
    "D66_candidates = {}\n",
    "ix = 0\n",
    "positie = 1\n",
    "name_part = None\n",
    "for line in text[16:]:\n",
    "    if line == '' or '.' in line or '\\x0c' in line:\n",
    "        continue\n",
    "    elif line in ['Marijke van ', 'Hind ', 'Marleen ', 'Ojanne ', 'Emma Laurijssens ']:\n",
    "        name_part = line\n",
    "    elif ix == 0:\n",
    "        if name_part is not None:\n",
    "            naam = name_part + line\n",
    "            name_part = None\n",
    "        else:\n",
    "            naam = line\n",
    "        D66_candidates[naam] = {'positie': positie}\n",
    "        positie += 1\n",
    "        ix += 1\n",
    "    elif ix == 1:\n",
    "        D66_candidates[naam]['plaats'] = line.strip()\n",
    "        ix += 1\n",
    "    elif ix == 2:\n",
    "        leeftijd = line.split()[0]\n",
    "        D66_candidates[naam]['jaar'] = 2020 - int(leeftijd) # good enough estimate\n",
    "        ix = 0\n",
    "\n",
    "# fix order, pdf sucks\n",
    "for naam, candidate in D66_candidates.items():\n",
    "    if 6 <= candidate['positie'] < 12:\n",
    "        candidate['positie'] += 1\n",
    "    if 23 <= candidate['positie'] < 34:\n",
    "        candidate['positie'] += 2\n",
    "    if 29 <= candidate['positie'] <= 32:\n",
    "        candidate['positie'] += 2\n",
    "    if 57 <= candidate['positie'] <= 61:\n",
    "        candidate['positie'] -= 1\n",
    "D66_candidates['Steven van Weyenberg']['positie'] = 6\n",
    "D66_candidates['Alexander Hammelburg']['positie'] = 23\n",
    "D66_candidates['Rens Raemakers']['positie'] = 24\n",
    "D66_candidates['Sjoerd Warmerdam']['positie'] = 29\n",
    "D66_candidates['Hind Dekker-Abdulaziz']['positie'] = 30\n",
    "D66_candidates['Bas de Leeuw']['positie'] = 61"
   ]
  },
  {
   "cell_type": "markdown",
   "metadata": {},
   "source": [
    "# GroenLinks"
   ]
  },
  {
   "cell_type": "code",
   "execution_count": 142,
   "metadata": {},
   "outputs": [
    {
     "name": "stdout",
     "output_type": "stream",
     "text": [
      "Downloading new page\n"
     ]
    }
   ],
   "source": [
    "url = \"https://groenlinks.nl/nieuws/groenlinks-presenteert-team-voor-verandering-2021\"\n",
    "filename = \"candidates_GL_20201115.html\"\n",
    "\n",
    "GL_tree = html.fromstring(load_and_save_page(filename, url))"
   ]
  },
  {
   "cell_type": "code",
   "execution_count": 181,
   "metadata": {},
   "outputs": [],
   "source": [
    "GL_candidates = {}\n",
    "for candidate in GL_tree.xpath('//main/div/div/div/div/p/text()')[5:]:\n",
    "    positie, *naam_CV = candidate.split(sep='.')\n",
    "    naam_CV = '.'.join(naam_CV)  # one typo, . instead of ,\n",
    "    naam, *CV = naam_CV.split(sep=',')\n",
    "    if len(CV) == 0:             # again because of same typo\n",
    "        naam, *CV = naam_CV.split(sep='.')\n",
    "    CV = ','.join(CV)\n",
    "    GL_candidates[naam.strip()] = {\n",
    "        \"positie\": int(positie.strip()),\n",
    "        \"CV\": CV.strip()\n",
    "    }"
   ]
  },
  {
   "cell_type": "markdown",
   "metadata": {},
   "source": [
    "# SP"
   ]
  },
  {
   "cell_type": "code",
   "execution_count": 189,
   "metadata": {
    "scrolled": false
   },
   "outputs": [
    {
     "name": "stdout",
     "output_type": "stream",
     "text": [
      "Downloading new page\n"
     ]
    }
   ],
   "source": [
    "url = \"https://www.sp.nl/nieuws/2020/09/concept-kandidatenlijst-tweede-kamer-2021\"\n",
    "filename = \"candidates_SP_20201115.html\"\n",
    "\n",
    "SP_tree = html.fromstring(load_and_save_page(filename, url))"
   ]
  },
  {
   "cell_type": "code",
   "execution_count": 237,
   "metadata": {},
   "outputs": [
    {
     "data": {
      "text/plain": [
       "['26\\xa0\\xa0 \\xa0Arnout Hoekstra (Vlaardingen, 1984)',\n",
       " '27\\xa0\\xa0 \\xa0Michel Verschuren (Breda, 1984)',\n",
       " '28\\xa0\\xa0 \\xa0Lieke van Rossum (Delft, 1982)',\n",
       " '29\\xa0\\xa0 \\xa0Lies van Aelst (Gorinchem, 1988)',\n",
       " '30\\xa0\\xa0 \\xa0Bram Roovers (Den Bosch, 1999)',\n",
       " '31\\xa0\\xa0 \\xa0Marloes Piepers (Nijmegen, 1981)',\n",
       " '32\\xa0\\xa0 \\xa0Erik Flentge (Amsterdam, 1967)',\n",
       " '33\\xa0\\xa0 \\xa0Hans van Hooft (Nijmegen, 1966)',\n",
       " '34\\xa0\\xa0 \\xa0Eric van den Broek (Boxtel, 1971)',\n",
       " '35\\xa0\\xa0 \\xa0Iris van de Kolk (Alphen aan den Rijn, 1993)',\n",
       " '36\\xa0\\xa0 \\xa0Sebastiaan van den Hout (Rijswijk, 1993)',\n",
       " '37\\xa0\\xa0 \\xa0Thomas van Halm (Leiden, 1994)',\n",
       " '38\\xa0\\xa0 \\xa0David de Vreede (Almere, 1990)',\n",
       " '39\\xa0\\xa0 \\xa0Arda Gerkens (Haarlem, 1965)',\n",
       " '40\\xa0\\xa0 \\xa0Spencer Zeegers (Uden, 1954)',\n",
       " '41 t/m 48 regionale kandidaten',\n",
       " '49\\xa0\\xa0 \\xa0Ronald van Raak (Amsterdam, 1969)',\n",
       " '50\\xa0\\xa0 \\xa0Emile Roemer (Boxmeer, 1962)']"
      ]
     },
     "execution_count": 237,
     "metadata": {},
     "output_type": "execute_result"
    }
   ],
   "source": [
    "CVs1_25_and_26_50[25:]"
   ]
  },
  {
   "cell_type": "code",
   "execution_count": 242,
   "metadata": {},
   "outputs": [],
   "source": [
    "positie_naam_1_25 = SP_tree.xpath('//div[@class=\"field-item even\"]/h3/text()')\n",
    "plaats_jaar_1_25 = SP_tree.xpath('//div[@class=\"field-item even\"]/p/strong/text()')\n",
    "CVs1_25_and_26_50 = [a for a in SP_tree.xpath('//div[@class=\"field-item even\"]/p/text()')[-70:] if a != '\\xa0']\n",
    "\n",
    "SP_candidates = {}\n",
    "for candidate in zip(positie_naam_1_25, plaats_jaar_1_25, CVs1_25_and_26_50[:25]):\n",
    "    positie, *naam = remove_punctuation(*candidate[0].split())\n",
    "    naam = \" \".join(naam)\n",
    "    *plaats, jaar = remove_punctuation(*candidate[1].split())\n",
    "    plaats = \" \".join(plaats)\n",
    "    SP_candidates[naam] = {\n",
    "        'positie': positie,\n",
    "        'plaats': plaats,\n",
    "        'jaar': jaar,\n",
    "        'CV': candidate[2]\n",
    "    }\n",
    "\n",
    "for candidate in CVs1_25_and_26_50[25:]:\n",
    "    try:\n",
    "        positie_naam, plaats_jaar = candidate.split(sep='(')\n",
    "    except ValueError:\n",
    "        continue\n",
    "    positie, *naam = positie_naam.replace('\\xa0', '').split()\n",
    "    naam = \" \".join(naam)\n",
    "    *plaats, jaar = remove_punctuation(*plaats_jaar.split())\n",
    "    plaats = \" \".join(plaats)\n",
    "    SP_candidates[naam] = {\n",
    "        'positie': positie,\n",
    "        'plaats': plaats,\n",
    "        'jaar': jaar,\n",
    "    }"
   ]
  },
  {
   "cell_type": "markdown",
   "metadata": {},
   "source": [
    "# PvdD"
   ]
  },
  {
   "cell_type": "code",
   "execution_count": 246,
   "metadata": {},
   "outputs": [],
   "source": [
    "url = \"https://www.partijvoordedieren.nl/uploads/site/tweedekamer/Profielen-kandidaten-Tweede-Kamerverkiezingen-2021.pdf\"\n",
    "filename = \"candidates_PvdD_20201115.pdf\"\n",
    "\n",
    "_ = load_and_save_page(filename, url)\n",
    "\n",
    "pdf = pdfx.PDFx(filename)"
   ]
  },
  {
   "cell_type": "code",
   "execution_count": 267,
   "metadata": {},
   "outputs": [],
   "source": [
    "PvdD_text = pdf.get_text().split('\\n')\n",
    "PvdD_text = [a.strip() for a in PvdD_text if a not in ['', ' ', '\\x0c ', '\\x0c']\n",
    "                                          and 'Partijcongres PvdD 12' not in a\n",
    "                                          and '/4' not in a][2:]"
   ]
  },
  {
   "cell_type": "code",
   "execution_count": 283,
   "metadata": {},
   "outputs": [],
   "source": [
    "PvdD_candidates = {}\n",
    "for line in PvdD_text:\n",
    "    if 'geboren' in line and 'woonplaats' in line:\n",
    "        CV = \"\"\n",
    "        positie, *rest = line.split(sep='.')\n",
    "        naam, *rest = \".\".join(rest).split(sep='(')\n",
    "        naam = naam.strip()\n",
    "        jaar, *plaats = \"(\".join(rest).split(sep=',')\n",
    "        jaar = jaar.split()[1]\n",
    "        plaats = remove_punctuation(\" \".join(','.join(plaats).split()[1:]))[0]\n",
    "        PvdD_candidates[naam] = {\n",
    "            'positie': positie,\n",
    "            'jaar': jaar,\n",
    "            'plaats': plaats\n",
    "        }\n",
    "    else:\n",
    "        CV += \" \" + line\n",
    "        PvdD_candidates[naam]['CV'] = CV.strip()"
   ]
  },
  {
   "cell_type": "markdown",
   "metadata": {},
   "source": [
    "# FvD"
   ]
  },
  {
   "cell_type": "code",
   "execution_count": 287,
   "metadata": {},
   "outputs": [
    {
     "name": "stdout",
     "output_type": "stream",
     "text": [
      "Downloading new page\n"
     ]
    }
   ],
   "source": [
    "url = \"https://www.fvd.nl/lijst\"\n",
    "filename = \"candidates_FvD_20201115.html\"\n",
    "\n",
    "FvD_tree = html.fromstring(load_and_save_page(filename, url))"
   ]
  },
  {
   "cell_type": "code",
   "execution_count": 354,
   "metadata": {},
   "outputs": [],
   "source": [
    "FvD_candidates = {}\n",
    "for candidate in FvD_tree.xpath('//div[@class=\"bio-container\"]'):\n",
    "    positie, *naam = candidate.xpath('div/div[@class=\"tk-lijst-naam\"]/text()')[0].strip().split()\n",
    "    positie = remove_punctuation(positie)[0]\n",
    "    naam = \" \".join(naam)\n",
    "    CV = \"\".join(candidate.xpath('div[@class=\"tk-lijst-tekst\"]/b/text()')\n",
    "                  + candidate.xpath('div[@class=\"tk-lijst-tekst\"]/text()'))\n",
    "    jaar = re.search(\"\\((\\d+)\\)\", CV).group(1)\n",
    "    FvD_candidates[naam] = {\n",
    "        'positie': positie,\n",
    "        'jaar': jaar,\n",
    "        'CV': CV\n",
    "    }"
   ]
  },
  {
   "cell_type": "markdown",
   "metadata": {},
   "source": [
    "# Denk"
   ]
  },
  {
   "cell_type": "code",
   "execution_count": 357,
   "metadata": {},
   "outputs": [],
   "source": [
    "# not announced yet\n",
    "Denk_candidates = {\n",
    "    'Farid Azarkan': {\n",
    "        'positie': 1,\n",
    "        'plaats': \"Culemborg\",\n",
    "        'CV': 'lid Tweede Kamer'\n",
    "    }\n",
    "}"
   ]
  },
  {
   "cell_type": "markdown",
   "metadata": {},
   "source": [
    "# 50PLUS"
   ]
  },
  {
   "cell_type": "code",
   "execution_count": 358,
   "metadata": {},
   "outputs": [],
   "source": [
    "# not announced yet\n",
    "_50PLUS_candidates = {\n",
    "    'Liane den Haan': {\n",
    "        'positie': 1,\n",
    "        'plaats': \"Woerden\",\n",
    "        'jaar': 1967,\n",
    "        'CV': 'directeur/bestuurder van ANBO'\n",
    "    }\n",
    "}"
   ]
  },
  {
   "cell_type": "markdown",
   "metadata": {},
   "source": [
    "# PvdT"
   ]
  },
  {
   "cell_type": "code",
   "execution_count": 359,
   "metadata": {},
   "outputs": [],
   "source": [
    "# not announced yet, not even the front runner... so this is just a guess\n",
    "PvdT_candidates = {\n",
    "    'Henk Otten': {\n",
    "        'positie': 1,\n",
    "        'jaar': 1967,\n",
    "#         'plaats': \"\",\n",
    "        'CV': 'lid Eerste Kamer'\n",
    "    }\n",
    "}"
   ]
  },
  {
   "cell_type": "markdown",
   "metadata": {},
   "source": [
    "# PVV"
   ]
  },
  {
   "cell_type": "code",
   "execution_count": 356,
   "metadata": {},
   "outputs": [],
   "source": [
    "# not announced yet\n",
    "PVV_candidates = {\n",
    "    'Geert Wilders': {\n",
    "        'positie': 1,\n",
    "        'jaar': 1963,\n",
    "        'plaats': \"Den Haag\",\n",
    "        'CV': 'fractievoorzitter'\n",
    "    }\n",
    "}"
   ]
  },
  {
   "cell_type": "markdown",
   "metadata": {},
   "source": [
    "# VVD"
   ]
  },
  {
   "cell_type": "code",
   "execution_count": 366,
   "metadata": {},
   "outputs": [],
   "source": [
    "url = \"https://www.vvd.nl/kandidatenlijst-tweede-kamerverkiezingen/\"\n",
    "# not yet announced on 15 Nov 2020\n",
    "VVD_candidates = {\n",
    "    'Mark Rutte': {\n",
    "        'positie': 1,\n",
    "        'jaar': 1967,\n",
    "        'plaats': 'Den Haag',\n",
    "        'CV': 'minister-president'\n",
    "    }\n",
    "}"
   ]
  },
  {
   "cell_type": "markdown",
   "metadata": {},
   "source": [
    "# SGP"
   ]
  },
  {
   "cell_type": "code",
   "execution_count": 367,
   "metadata": {},
   "outputs": [],
   "source": [
    "url = \"https://sgp.nl/actueel/nieuws/sgp-kandidatenlijst-vernieuwd-en-continuiteit\"\n",
    "# not accessible on Sundays (which today, 15 Nov 2020, is)\n",
    "SGP_candidates = {\n",
    "    'Kees van der Staaij': {\n",
    "        'positie': 1,\n",
    "        'jaar': 1968,\n",
    "        'plaats': 'Benthuizen',\n",
    "        'CV': 'fractievoorzitter'\n",
    "    }\n",
    "}"
   ]
  },
  {
   "cell_type": "markdown",
   "metadata": {},
   "source": [
    "# PvdA"
   ]
  },
  {
   "cell_type": "code",
   "execution_count": 368,
   "metadata": {},
   "outputs": [],
   "source": [
    "# not announced yet\n",
    "PvdA_candidates = {\n",
    "    'Lodewijk Asscher': {\n",
    "        'positie': 1,\n",
    "        'jaar': 1974,\n",
    "        'plaats': \"Amsterdam\",\n",
    "        'CV': 'fractievoorzitter'\n",
    "    }\n",
    "}"
   ]
  },
  {
   "cell_type": "markdown",
   "metadata": {},
   "source": [
    "# Put it all together"
   ]
  },
  {
   "cell_type": "code",
   "execution_count": 363,
   "metadata": {},
   "outputs": [],
   "source": [
    "parties = ['VVD', 'PVV', 'CDA', 'D66', 'GL', 'SP', 'PvdA', 'CU', 'PvdD', '50PLUS', 'SGP', 'Denk', 'FvD', 'PvdT']"
   ]
  },
  {
   "cell_type": "code",
   "execution_count": 401,
   "metadata": {},
   "outputs": [],
   "source": [
    "all_candidates = pd.DataFrame()\n",
    "\n",
    "for party in parties:\n",
    "    if party != '50PLUS':\n",
    "        party_candidates = eval(party + '_candidates')\n",
    "    else:\n",
    "        party_candidates = _50PLUS_candidates\n",
    "\n",
    "    for naam, candidate in party_candidates.items():\n",
    "        candidate = candidate.copy()\n",
    "        try:\n",
    "            candidate[\"jaar\"] = int(candidate[\"jaar\"])\n",
    "        except KeyError:\n",
    "            pass\n",
    "        candidate[\"positie\"] = int(candidate[\"positie\"])\n",
    "        candidate[\"naam\"] = naam\n",
    "        candidate[\"partij\"] = party\n",
    "        all_candidates = all_candidates.append(candidate, ignore_index=True)"
   ]
  },
  {
   "cell_type": "code",
   "execution_count": 402,
   "metadata": {},
   "outputs": [
    {
     "data": {
      "text/html": [
       "<div>\n",
       "<style scoped>\n",
       "    .dataframe tbody tr th:only-of-type {\n",
       "        vertical-align: middle;\n",
       "    }\n",
       "\n",
       "    .dataframe tbody tr th {\n",
       "        vertical-align: top;\n",
       "    }\n",
       "\n",
       "    .dataframe thead th {\n",
       "        text-align: right;\n",
       "    }\n",
       "</style>\n",
       "<table border=\"1\" class=\"dataframe\">\n",
       "  <thead>\n",
       "    <tr style=\"text-align: right;\">\n",
       "      <th></th>\n",
       "      <th>CV</th>\n",
       "      <th>jaar</th>\n",
       "      <th>naam</th>\n",
       "      <th>partij</th>\n",
       "      <th>plaats</th>\n",
       "      <th>positie</th>\n",
       "    </tr>\n",
       "  </thead>\n",
       "  <tbody>\n",
       "    <tr>\n",
       "      <th>0</th>\n",
       "      <td>minister-president</td>\n",
       "      <td>1967.0</td>\n",
       "      <td>Mark Rutte</td>\n",
       "      <td>VVD</td>\n",
       "      <td>Den Haag</td>\n",
       "      <td>1.0</td>\n",
       "    </tr>\n",
       "    <tr>\n",
       "      <th>1</th>\n",
       "      <td>fractievoorzitter</td>\n",
       "      <td>1963.0</td>\n",
       "      <td>Geert Wilders</td>\n",
       "      <td>PVV</td>\n",
       "      <td>Den Haag</td>\n",
       "      <td>1.0</td>\n",
       "    </tr>\n",
       "    <tr>\n",
       "      <th>2</th>\n",
       "      <td>NaN</td>\n",
       "      <td>NaN</td>\n",
       "      <td>Hugo de Jonge</td>\n",
       "      <td>CDA</td>\n",
       "      <td>Rotterdam</td>\n",
       "      <td>1.0</td>\n",
       "    </tr>\n",
       "    <tr>\n",
       "      <th>3</th>\n",
       "      <td>NaN</td>\n",
       "      <td>NaN</td>\n",
       "      <td>Pieter Omtzigt</td>\n",
       "      <td>CDA</td>\n",
       "      <td>Enschede</td>\n",
       "      <td>2.0</td>\n",
       "    </tr>\n",
       "    <tr>\n",
       "      <th>4</th>\n",
       "      <td>NaN</td>\n",
       "      <td>NaN</td>\n",
       "      <td>Inge Van Dijk</td>\n",
       "      <td>CDA</td>\n",
       "      <td>Gemert-Bakel</td>\n",
       "      <td>3.0</td>\n",
       "    </tr>\n",
       "    <tr>\n",
       "      <th>...</th>\n",
       "      <td>...</td>\n",
       "      <td>...</td>\n",
       "      <td>...</td>\n",
       "      <td>...</td>\n",
       "      <td>...</td>\n",
       "      <td>...</td>\n",
       "    </tr>\n",
       "    <tr>\n",
       "      <th>294</th>\n",
       "      <td>Frederik Jansen  (1992) is politicoloog, belei...</td>\n",
       "      <td>1992.0</td>\n",
       "      <td>Frederik Jansen</td>\n",
       "      <td>FvD</td>\n",
       "      <td>NaN</td>\n",
       "      <td>7.0</td>\n",
       "    </tr>\n",
       "    <tr>\n",
       "      <th>295</th>\n",
       "      <td>Wybren van Haga (1967) is ingenieur, oud-luite...</td>\n",
       "      <td>1967.0</td>\n",
       "      <td>Wybren van Haga</td>\n",
       "      <td>FvD</td>\n",
       "      <td>NaN</td>\n",
       "      <td>8.0</td>\n",
       "    </tr>\n",
       "    <tr>\n",
       "      <th>296</th>\n",
       "      <td>Jan Cees Vogelaar (1962) is agrarisch ondernem...</td>\n",
       "      <td>1962.0</td>\n",
       "      <td>Jan Cees Vogelaar</td>\n",
       "      <td>FvD</td>\n",
       "      <td>NaN</td>\n",
       "      <td>9.0</td>\n",
       "    </tr>\n",
       "    <tr>\n",
       "      <th>297</th>\n",
       "      <td>Hans Smolders  (1960) is oud-topsporter en ond...</td>\n",
       "      <td>1960.0</td>\n",
       "      <td>Hans Smolders</td>\n",
       "      <td>FvD</td>\n",
       "      <td>NaN</td>\n",
       "      <td>10.0</td>\n",
       "    </tr>\n",
       "    <tr>\n",
       "      <th>298</th>\n",
       "      <td>lid Eerste Kamer</td>\n",
       "      <td>1967.0</td>\n",
       "      <td>Henk Otten</td>\n",
       "      <td>PvdT</td>\n",
       "      <td>NaN</td>\n",
       "      <td>1.0</td>\n",
       "    </tr>\n",
       "  </tbody>\n",
       "</table>\n",
       "<p>299 rows × 6 columns</p>\n",
       "</div>"
      ],
      "text/plain": [
       "                                                    CV    jaar  \\\n",
       "0                                   minister-president  1967.0   \n",
       "1                                    fractievoorzitter  1963.0   \n",
       "2                                                  NaN     NaN   \n",
       "3                                                  NaN     NaN   \n",
       "4                                                  NaN     NaN   \n",
       "..                                                 ...     ...   \n",
       "294  Frederik Jansen  (1992) is politicoloog, belei...  1992.0   \n",
       "295  Wybren van Haga (1967) is ingenieur, oud-luite...  1967.0   \n",
       "296  Jan Cees Vogelaar (1962) is agrarisch ondernem...  1962.0   \n",
       "297  Hans Smolders  (1960) is oud-topsporter en ond...  1960.0   \n",
       "298                                   lid Eerste Kamer  1967.0   \n",
       "\n",
       "                  naam partij        plaats  positie  \n",
       "0           Mark Rutte    VVD      Den Haag      1.0  \n",
       "1        Geert Wilders    PVV      Den Haag      1.0  \n",
       "2        Hugo de Jonge    CDA     Rotterdam      1.0  \n",
       "3       Pieter Omtzigt    CDA      Enschede      2.0  \n",
       "4        Inge Van Dijk    CDA  Gemert-Bakel      3.0  \n",
       "..                 ...    ...           ...      ...  \n",
       "294    Frederik Jansen    FvD           NaN      7.0  \n",
       "295    Wybren van Haga    FvD           NaN      8.0  \n",
       "296  Jan Cees Vogelaar    FvD           NaN      9.0  \n",
       "297      Hans Smolders    FvD           NaN     10.0  \n",
       "298         Henk Otten   PvdT           NaN      1.0  \n",
       "\n",
       "[299 rows x 6 columns]"
      ]
     },
     "execution_count": 402,
     "metadata": {},
     "output_type": "execute_result"
    }
   ],
   "source": [
    "all_candidates"
   ]
  },
  {
   "cell_type": "code",
   "execution_count": 405,
   "metadata": {},
   "outputs": [
    {
     "data": {
      "text/plain": [
       "<AxesSubplot:>"
      ]
     },
     "execution_count": 405,
     "metadata": {},
     "output_type": "execute_result"
    },
    {
     "data": {
      "image/png": "[encoded data removed]",
      "text/plain": [
       "<Figure size 432x288 with 1 Axes>"
      ]
     },
     "metadata": {
      "needs_background": "light"
     },
     "output_type": "display_data"
    }
   ],
   "source": [
    "all_candidates.jaar.hist(bins=int(all_candidates.jaar.max()-all_candidates.jaar.min()+1))"
   ]
  },
  {
   "cell_type": "code",
   "execution_count": 415,
   "metadata": {},
   "outputs": [],
   "source": [
    "import geocoder\n",
    "import ipyleaflet"
   ]
  },
  {
   "cell_type": "code",
   "execution_count": 413,
   "metadata": {},
   "outputs": [],
   "source": [
    "amsterdam = geocoder.osm(\"Amsterdam\")"
   ]
  },
  {
   "cell_type": "code",
   "execution_count": 417,
   "metadata": {},
   "outputs": [
    {
     "data": {
      "text/plain": [
       "(52.3727598, 4.8936041)"
      ]
     },
     "execution_count": 417,
     "metadata": {},
     "output_type": "execute_result"
    }
   ],
   "source": [
    "amsterdam.json['lat'], amsterdam.json['lng']"
   ]
  },
  {
   "cell_type": "code",
   "execution_count": 435,
   "metadata": {},
   "outputs": [],
   "source": [
    "plaatsen = {}"
   ]
  },
  {
   "cell_type": "code",
   "execution_count": 441,
   "metadata": {},
   "outputs": [],
   "source": [
    "import tqdm.notebook as tqdm"
   ]
  },
  {
   "cell_type": "code",
   "execution_count": 525,
   "metadata": {},
   "outputs": [
    {
     "data": {
      "application/vnd.jupyter.widget-view+json": {
       "model_id": "90185dda299140ce8518b61b188a80d4",
       "version_major": 2,
       "version_minor": 0
      },
      "text/plain": [
       "HBox(children=(HTML(value=''), FloatProgress(value=0.0, max=299.0), HTML(value='')))"
      ]
     },
     "metadata": {},
     "output_type": "display_data"
    },
    {
     "name": "stdout",
     "output_type": "stream",
     "text": [
      "\n"
     ]
    }
   ],
   "source": [
    "for plaats in tqdm.tqdm(all_candidates.plaats):\n",
    "    if plaats and not plaatsen.get(plaats):\n",
    "        plaatsen[plaats] = geocoder.osm(plaats)\n",
    "del plaatsen[np.nan]\n",
    "plaatsen['Borne'] = geocoder.osm('Borne, Nederland')\n",
    "plaatsen['Goes'] = geocoder.osm('Goes, NL')\n",
    "plaatsen['Elburg'] = geocoder.osm('Elburg, NL')\n",
    "plaatsen['Warten gemeente Leeuwarden'] = geocoder.osm('Warten, Leeuwarden')\n",
    "plaatsen['Sint Maarten'] = geocoder.osm(\"Sint Maarten (Nederland)\")"
   ]
  },
  {
   "cell_type": "code",
   "execution_count": 526,
   "metadata": {},
   "outputs": [],
   "source": [
    "for plaatsnaam, data in plaatsen.items():\n",
    "    try:\n",
    "        if data.json[\"country_code\"] != 'nl':\n",
    "            print(plaatsnaam)\n",
    "    except:\n",
    "        print(plaatsnaam)"
   ]
  },
  {
   "cell_type": "code",
   "execution_count": 527,
   "metadata": {
    "scrolled": false
   },
   "outputs": [
    {
     "data": {
      "application/vnd.jupyter.widget-view+json": {
       "model_id": "6bd0bbf421564b60a7138afafa9eaef9",
       "version_major": 2,
       "version_minor": 0
      },
      "text/plain": [
       "Map(center=[52.15371445951162, 5.943603515625001], controls=(ZoomControl(options=['position', 'zoom_in_text', …"
      ]
     },
     "metadata": {},
     "output_type": "display_data"
    }
   ],
   "source": [
    "center = (52.15371445951162, 5.943603515625001)\n",
    "\n",
    "kaart = ipyleaflet.Map(center=center, zoom=7)\n",
    "\n",
    "for ix, candidate in all_candidates.iterrows():\n",
    "    if plaatsen.get(candidate.plaats):\n",
    "        plaats = plaatsen[candidate.plaats] \n",
    "        marker = ipyleaflet.Marker(location=(plaats.json['lat'], plaats.json['lng']))\n",
    "        kaart.add_layer(marker)\n",
    "\n",
    "display(kaart)"
   ]
  },
  {
   "cell_type": "code",
   "execution_count": 533,
   "metadata": {},
   "outputs": [],
   "source": [
    "plaatsen_json = {plaatsnaam: plaats.json for plaatsnaam, plaats in plaatsen.items()}"
   ]
  },
  {
   "cell_type": "code",
   "execution_count": 543,
   "metadata": {},
   "outputs": [],
   "source": [
    "with open('candidates.pkl', 'wb') as fh:\n",
    "    pickle.dump(all_candidates.to_dict(), fh)\n",
    "with open('candidate_plaatsen.pkl', 'wb') as fh:\n",
    "    pickle.dump(plaatsen_json, fh)"
   ]
  },
  {
   "cell_type": "code",
   "execution_count": null,
   "metadata": {},
   "outputs": [],
   "source": []
  }
 ],
 "metadata": {
  "kernelspec": {
   "display_name": "Python 3",
   "language": "python",
   "name": "python3"
  },
  "language_info": {
   "codemirror_mode": {
    "name": "ipython",
    "version": 3
   },
   "file_extension": ".py",
   "mimetype": "text/x-python",
   "name": "python",
   "nbconvert_exporter": "python",
   "pygments_lexer": "ipython3",
   "version": "3.8.2"
  }
 },
 "nbformat": 4,
 "nbformat_minor": 4
}
