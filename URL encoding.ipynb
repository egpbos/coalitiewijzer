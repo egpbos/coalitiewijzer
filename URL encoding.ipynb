{
 "cells": [
  {
   "cell_type": "markdown",
   "metadata": {},
   "source": [
    "# binary url encoding\n",
    "Kunnen we codes handig van string naar bitmap omzetten en terug?\n",
    "\n",
    "Yessur https://docs.python.org/2/library/binascii.html#binascii.hexlify"
   ]
  },
  {
   "cell_type": "code",
   "execution_count": null,
   "metadata": {},
   "outputs": [],
   "source": [
    "import pickle\n",
    "import binascii"
   ]
  },
  {
   "cell_type": "code",
   "execution_count": null,
   "metadata": {},
   "outputs": [],
   "source": [
    "test_bools = [True, False, False, True]"
   ]
  },
  {
   "cell_type": "code",
   "execution_count": null,
   "metadata": {},
   "outputs": [],
   "source": [
    "bytearray(test_bools)"
   ]
  },
  {
   "cell_type": "code",
   "execution_count": null,
   "metadata": {},
   "outputs": [],
   "source": [
    "binascii.hexlify(bytearray(test_bools))"
   ]
  },
  {
   "cell_type": "code",
   "execution_count": null,
   "metadata": {},
   "outputs": [],
   "source": [
    "list(binascii.unhexlify(binascii.hexlify(bytearray(test_bools))))"
   ]
  },
  {
   "cell_type": "markdown",
   "metadata": {},
   "source": [
    "Hm, nee dat is niet echt de compacte representatie die ik in gedachten had... oh dit is beter: https://docs.python.org/3/library/base64.html"
   ]
  },
  {
   "cell_type": "code",
   "execution_count": null,
   "metadata": {},
   "outputs": [],
   "source": [
    "bin([True, False])"
   ]
  },
  {
   "cell_type": "code",
   "execution_count": null,
   "metadata": {},
   "outputs": [],
   "source": [
    "def bool_list_to_binary_int(bool_list):\n",
    "    return sum(int(v)*2**i for i,v in enumerate(bool_list[::-1]))"
   ]
  },
  {
   "cell_type": "code",
   "execution_count": null,
   "metadata": {},
   "outputs": [],
   "source": [
    "def bool_list_to_binary_repr(bool_list):\n",
    "    return bin(bool_list_to_binary_int(bool_list))"
   ]
  },
  {
   "cell_type": "code",
   "execution_count": null,
   "metadata": {},
   "outputs": [],
   "source": [
    "bool_list_to_binary_repr(test_bools).encode('base64')"
   ]
  },
  {
   "cell_type": "code",
   "execution_count": null,
   "metadata": {},
   "outputs": [],
   "source": [
    "str(bool_list_to_binary_int(test_bools)).encode('base64')"
   ]
  },
  {
   "cell_type": "code",
   "execution_count": null,
   "metadata": {},
   "outputs": [],
   "source": [
    "bytes(bool_list_to_binary_repr(test_bools).encode('ascii'))"
   ]
  },
  {
   "cell_type": "code",
   "execution_count": null,
   "metadata": {},
   "outputs": [],
   "source": [
    "import base64"
   ]
  },
  {
   "cell_type": "code",
   "execution_count": null,
   "metadata": {},
   "outputs": [],
   "source": [
    "base64.urlsafe_b64encode(str(bool_list_to_binary_int(test_bools)))"
   ]
  },
  {
   "cell_type": "code",
   "execution_count": null,
   "metadata": {},
   "outputs": [],
   "source": [
    "import BitVector"
   ]
  },
  {
   "cell_type": "code",
   "execution_count": null,
   "metadata": {},
   "outputs": [],
   "source": [
    "bv = BitVector.BitVector(bitlist=test_bools)"
   ]
  },
  {
   "cell_type": "code",
   "execution_count": null,
   "metadata": {},
   "outputs": [],
   "source": [
    "print(bv)"
   ]
  },
  {
   "cell_type": "code",
   "execution_count": null,
   "metadata": {},
   "outputs": [],
   "source": [
    "import io\n",
    "import codecs"
   ]
  },
  {
   "cell_type": "markdown",
   "metadata": {},
   "source": [
    "tests met io weer weggehaald"
   ]
  },
  {
   "cell_type": "code",
   "execution_count": null,
   "metadata": {},
   "outputs": [],
   "source": [
    "bv = BitVector.BitVector(bitlist=test_bools * 2)"
   ]
  },
  {
   "cell_type": "code",
   "execution_count": null,
   "metadata": {},
   "outputs": [],
   "source": [
    "print(bv)"
   ]
  },
  {
   "cell_type": "code",
   "execution_count": null,
   "metadata": {},
   "outputs": [],
   "source": [
    "with open('testhy.txt', 'wb') as fh:\n",
    "    bv.write_to_file(fh)"
   ]
  },
  {
   "cell_type": "code",
   "execution_count": null,
   "metadata": {},
   "outputs": [],
   "source": [
    "with open('testhy.txt', 'rb') as fh:\n",
    "    brap = fh.read()\n",
    "    proep = codecs.encode(brap, 'base64')"
   ]
  },
  {
   "cell_type": "code",
   "execution_count": null,
   "metadata": {},
   "outputs": [],
   "source": [
    "brap, proep"
   ]
  },
  {
   "cell_type": "code",
   "execution_count": null,
   "metadata": {},
   "outputs": [],
   "source": [
    "bv_lang = BitVector.BitVector(bitlist=test_bools * 8)"
   ]
  },
  {
   "cell_type": "code",
   "execution_count": null,
   "metadata": {},
   "outputs": [],
   "source": [
    "print(bv_lang)"
   ]
  },
  {
   "cell_type": "code",
   "execution_count": null,
   "metadata": {},
   "outputs": [],
   "source": [
    "with open('testlang.txt', 'wb') as fh:\n",
    "    bv_lang.write_to_file(fh)"
   ]
  },
  {
   "cell_type": "code",
   "execution_count": null,
   "metadata": {},
   "outputs": [],
   "source": [
    "with open('testlang.txt', 'rb') as fh:\n",
    "    brap = fh.read()\n",
    "    proep = codecs.encode(brap, 'base64')"
   ]
  },
  {
   "cell_type": "code",
   "execution_count": null,
   "metadata": {},
   "outputs": [],
   "source": [
    "brap, proep"
   ]
  },
  {
   "cell_type": "code",
   "execution_count": null,
   "metadata": {},
   "outputs": [],
   "source": [
    "bv_langer = BitVector.BitVector(bitlist=test_bools * 16)"
   ]
  },
  {
   "cell_type": "code",
   "execution_count": null,
   "metadata": {},
   "outputs": [],
   "source": [
    "with open('testlanger.txt', 'wb') as fh:\n",
    "    bv_langer.write_to_file(fh)"
   ]
  },
  {
   "cell_type": "code",
   "execution_count": null,
   "metadata": {},
   "outputs": [],
   "source": [
    "with open('testlanger.txt', 'rb') as fh:\n",
    "    brap = fh.read()\n",
    "    proep = codecs.encode(brap, 'base64')"
   ]
  },
  {
   "cell_type": "code",
   "execution_count": null,
   "metadata": {},
   "outputs": [],
   "source": [
    "brap, proep"
   ]
  },
  {
   "cell_type": "code",
   "execution_count": null,
   "metadata": {},
   "outputs": [],
   "source": [
    "bv_langst = BitVector.BitVector(bitlist=test_bools * 32)"
   ]
  },
  {
   "cell_type": "code",
   "execution_count": null,
   "metadata": {},
   "outputs": [],
   "source": [
    "with open('testlangst.txt', 'wb') as fh:\n",
    "    bv_langst.write_to_file(fh)\n",
    "with open('testlangst.txt', 'rb') as fh:\n",
    "    brap = fh.read()\n",
    "    proep = codecs.encode(brap, 'base64')\n",
    "brap, proep"
   ]
  },
  {
   "cell_type": "code",
   "execution_count": null,
   "metadata": {},
   "outputs": [],
   "source": [
    "bv_lung = BitVector.BitVector(bitlist=[1, 1, 1, 0] * 64 * 3)\n",
    "with open('testlung.txt', 'wb') as fh:\n",
    "    bv_lung.write_to_file(fh)\n",
    "with open('testlung.txt', 'rb') as fh:\n",
    "    brap = fh.read()\n",
    "    proep = codecs.encode(brap, 'base64')\n",
    "brap, proep"
   ]
  },
  {
   "cell_type": "markdown",
   "metadata": {},
   "source": [
    "Die ='s aan het eind komen omdat base64 3x8=24 bits in 4 karakter opslaat, dus 6 bits per karakter. Als je dus geen factor 6 erin hebt dan krijg je een = aan het eind, wrs iets van de lege extra karakter ofzo.\n",
    "\n",
    "Idd, zie hier, het is padding: https://stackoverflow.com/a/36571117/1199693\n",
    "\n",
    "Kun je in een URL dus wel weglaten, alleen moet je ze dan weer toevoegen als je encoding string geen multiple van 4 is."
   ]
  },
  {
   "cell_type": "code",
   "execution_count": null,
   "metadata": {},
   "outputs": [],
   "source": [
    "codecs.encode([True, False], 'base64')"
   ]
  },
  {
   "cell_type": "code",
   "execution_count": null,
   "metadata": {},
   "outputs": [],
   "source": [
    "byte_file_like = io.BytesIO()"
   ]
  },
  {
   "cell_type": "code",
   "execution_count": null,
   "metadata": {},
   "outputs": [],
   "source": [
    "dinkie = [True, False, False, True, True, False, False, True]"
   ]
  },
  {
   "cell_type": "code",
   "execution_count": null,
   "metadata": {},
   "outputs": [],
   "source": [
    "byte_file_like.write(bytes(codecs.encode(str(dinkie), encoding='utf-8')))"
   ]
  },
  {
   "cell_type": "code",
   "execution_count": null,
   "metadata": {},
   "outputs": [],
   "source": [
    "byte_file_like.seek(0)"
   ]
  },
  {
   "cell_type": "code",
   "execution_count": null,
   "metadata": {},
   "outputs": [],
   "source": [
    "byte_file_like.read()"
   ]
  },
  {
   "cell_type": "code",
   "execution_count": null,
   "metadata": {},
   "outputs": [],
   "source": []
  }
 ],
 "metadata": {
  "language_info": {
   "name": "python",
   "pygments_lexer": "ipython3"
  }
 },
 "nbformat": 4,
 "nbformat_minor": 4
}
