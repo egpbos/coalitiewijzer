{
 "cells": [
  {
   "cell_type": "code",
   "execution_count": null,
   "metadata": {},
   "outputs": [],
   "source": [
    "import ipyvuetify as v\n",
    "import traitlets"
   ]
  },
  {
   "cell_type": "code",
   "execution_count": null,
   "metadata": {},
   "outputs": [],
   "source": [
    "url = 'localhost'"
   ]
  },
  {
   "cell_type": "code",
   "execution_count": null,
   "metadata": {},
   "outputs": [],
   "source": [
    "class CopyURLWidget(v.VuetifyTemplate):\n",
    "    url = traitlets.Unicode(url).tag(sync=True)\n",
    "    template = traitlets.Unicode('''\n",
    "<template>\n",
    "    <div>\n",
    "        <v-text-field\n",
    "            label=\"Share URL\"\n",
    "            append-icon=\"mdi-map-marker\"\n",
    "            v-model=\"url\"\n",
    "        ></v-text-field>\n",
    "\n",
    "    </div>\n",
    "</template>\n",
    "''').tag(sync=True)\n",
    "\n",
    "share_url_widget = CopyURLWidget()\n",
    "\n",
    "def on_click_share_url_widget_button():\n",
    "    print(\"hoi\")\n",
    "\n",
    "share_url_widget.on_event('click:append', on_click_share_url_widget_button)"
   ]
  },
  {
   "cell_type": "code",
   "execution_count": null,
   "metadata": {},
   "outputs": [],
   "source": [
    "display(share_url_widget)"
   ]
  },
  {
   "cell_type": "code",
   "execution_count": null,
   "metadata": {},
   "outputs": [],
   "source": []
  }
 ],
 "metadata": {
  "language_info": {
   "name": "python",
   "pygments_lexer": "ipython3"
  }
 },
 "nbformat": 4,
 "nbformat_minor": 4
}
