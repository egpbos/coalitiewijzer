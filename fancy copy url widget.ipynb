{
 "cells": [
  {
   "cell_type": "code",
   "execution_count": 2,
   "metadata": {},
   "outputs": [],
   "source": [
    "import ipyvuetify as v\n",
    "import traitlets"
   ]
  },
  {
   "cell_type": "code",
   "execution_count": 4,
   "metadata": {},
   "outputs": [],
   "source": [
    "url = 'localhost'"
   ]
  },
  {
   "cell_type": "code",
   "execution_count": 8,
   "metadata": {},
   "outputs": [],
   "source": [
    "class CopyURLWidget(v.VuetifyTemplate):\n",
    "    url = traitlets.Unicode(url).tag(sync=True)\n",
    "    template = traitlets.Unicode('''\n",
    "<template>\n",
    "    <div>\n",
    "        <v-text-field\n",
    "            label=\"Share URL\"\n",
    "            append-icon=\"mdi-map-marker\"\n",
    "            v-model=\"url\"\n",
    "        ></v-text-field>\n",
    "\n",
    "    </div>\n",
    "</template>\n",
    "''').tag(sync=True)\n",
    "\n",
    "share_url_widget = CopyURLWidget()\n",
    "\n",
    "def on_click_share_url_widget_button():\n",
    "    print(\"hoi\")\n",
    "\n",
    "share_url_widget.on_event('click:append', on_click_share_url_widget_button)"
   ]
  },
  {
   "cell_type": "code",
   "execution_count": 9,
   "metadata": {},
   "outputs": [
    {
     "data": {
      "application/vnd.jupyter.widget-view+json": {
       "model_id": "f7d3ab0c1ff24f5789584a977bd08260",
       "version_major": 2,
       "version_minor": 0
      },
      "text/plain": [
       "CopyURLWidget()"
      ]
     },
     "metadata": {},
     "output_type": "display_data"
    }
   ],
   "source": [
    "display(share_url_widget)"
   ]
  },
  {
   "cell_type": "code",
   "execution_count": null,
   "metadata": {},
   "outputs": [],
   "source": []
  }
 ],
 "metadata": {
  "kernelspec": {
   "display_name": "Python 3",
   "language": "python",
   "name": "python3"
  },
  "language_info": {
   "codemirror_mode": {
    "name": "ipython",
    "version": 3
   },
   "file_extension": ".py",
   "mimetype": "text/x-python",
   "name": "python",
   "nbconvert_exporter": "python",
   "pygments_lexer": "ipython3",
   "version": "3.8.2"
  }
 },
 "nbformat": 4,
 "nbformat_minor": 4
}
