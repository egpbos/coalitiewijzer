{
 "cells": [
  {
   "cell_type": "code",
   "execution_count": null,
   "metadata": {},
   "outputs": [],
   "source": [
    "import pickle\n",
    "from collections import namedtuple\n",
    "Peiling = namedtuple('Peiling', ['verwacht', 'laag', 'hoog'])"
   ]
  },
  {
   "cell_type": "code",
   "execution_count": null,
   "metadata": {},
   "outputs": [],
   "source": [
    "with open('peilingen.pkl', 'rb') as fh:\n",
    "    numbers = pickle.load(fh)"
   ]
  },
  {
   "cell_type": "markdown",
   "metadata": {},
   "source": [
    "# Coalitiewijzer\n",
    "Druk op de knoppen om partijen toe te voegen aan je coalitie. Een meerderheid heeft 76 zetels nodig. De helder rode zetel is het verwachte aantal zetels. In licht rood zie je onder- en bovengrenzen van het verwachte aantal zetels op basis van verschillende peilingen.\n",
    "\n",
    "Press the buttons to add parties to your coalition. A majority coalition needs 76 seats. The bright red seat is the expected number of seats. In light red we show the lower and upper limits of the expected amount of seats based on different polls.\n",
    "\n",
    "Data: https://peilingwijzer.tomlouwerse.nl/p/laatste-cijfers.html"
   ]
  },
  {
   "cell_type": "code",
   "execution_count": null,
   "metadata": {},
   "outputs": [],
   "source": [
    "import ipywidgets as widgets\n",
    "from ipyvuetify import VuetifyTemplate, Btn\n",
    "import traitlets"
   ]
  },
  {
   "cell_type": "code",
   "execution_count": null,
   "metadata": {},
   "outputs": [],
   "source": [
    "class SeatsWidget(VuetifyTemplate):\n",
    "    rows = traitlets.Int(5).tag(sync=True)\n",
    "    cols = traitlets.Int(30).tag(sync=True)\n",
    "    low = traitlets.Int(0).tag(sync=True)\n",
    "    exp = traitlets.Int(0).tag(sync=True)\n",
    "    high = traitlets.Int(0).tag(sync=True)\n",
    "    template = traitlets.Unicode('''\n",
    "<template>\n",
    "    <div>\n",
    "        <table>\n",
    "        <tr v-for=\"i in rows\">\n",
    "            <td v-for=\"j in cols/2\">\n",
    "                <div>\n",
    "                    <v-icon v-if=\"((j-1) * rows + i) < low\"        style=\"color: #666666\">mdi-seat</v-icon>\n",
    "                    <v-icon v-else-if=\"((j-1) * rows + i) < exp\"   style=\"color: red; opacity: 30%; transform: rotate(90deg)\">mdi-seat</v-icon>\n",
    "                    <v-icon v-else-if=\"((j-1) * rows + i) == exp\"  style=\"color: red\">mdi-seat</v-icon>\n",
    "                    <v-icon v-else-if=\"((j-1) * rows + i) <= high\" style=\"color: red; opacity: 30%; transform: rotate(-90deg)\">mdi-seat</v-icon>\n",
    "                    <v-icon v-else style=\"color: #bbbbbb; transform: rotate(180deg)\">mdi-seat</v-icon>\n",
    "                </div>\n",
    "            </td>\n",
    "            <td>\n",
    "                <div>\n",
    "                    <v-icon style=\"color: blue\">mdi-dots-vertical</v-icon>\n",
    "                </div>\n",
    "            </td>\n",
    "            <td v-for=\"j in cols/2\">\n",
    "                <div>\n",
    "                    <v-icon v-if=\"((j + cols/2 - 1) * rows + i) < low\"        style=\"color: #666666\">mdi-seat</v-icon>\n",
    "                    <v-icon v-else-if=\"((j + cols/2 - 1) * rows + i) < exp\"   style=\"color: red; opacity: 30%; transform: rotate(90deg)\">mdi-seat</v-icon>\n",
    "                    <v-icon v-else-if=\"((j + cols/2 - 1) * rows + i) == exp\"  style=\"color: red\">mdi-seat</v-icon>\n",
    "                    <v-icon v-else-if=\"((j + cols/2 - 1) * rows + i) <= high\" style=\"color: red; opacity: 30%; transform: rotate(-90deg)\">mdi-seat</v-icon>\n",
    "                    <v-icon v-else style=\"color: #bbbbbb; transform: rotate(180deg)\">mdi-seat</v-icon>\n",
    "                </div>\n",
    "            </td>\n",
    "        </tr>\n",
    "    </div>\n",
    "</template>\n",
    "''').tag(sync=True)\n",
    "    \n",
    "seats = SeatsWidget()"
   ]
  },
  {
   "cell_type": "code",
   "execution_count": null,
   "metadata": {},
   "outputs": [],
   "source": [
    "toggle_buttons = {key: widgets.ToggleButton(description=key, value=False,\n",
    "                                            layout=widgets.Layout(height='auto', width='auto'))\n",
    "                  for key in numbers.keys()}\n",
    "\n",
    "grid_width = 5\n",
    "\n",
    "grid = widgets.GridspecLayout((len(numbers) - 1) // grid_width + 1, grid_width)\n",
    "for ix, (key, button) in enumerate(toggle_buttons.items()):\n",
    "    ix1, ix2 = ix // grid_width, ix % grid_width\n",
    "    grid[ix1, ix2] = button"
   ]
  },
  {
   "cell_type": "code",
   "execution_count": null,
   "metadata": {},
   "outputs": [],
   "source": [
    "def on_toggle(**toggles):\n",
    "    selected = [partij for partij, partij_selected in toggles.items() if partij_selected]\n",
    "\n",
    "    seats.low = int(sum(numbers[partij].laag for partij in selected))\n",
    "    seats.exp = int(sum(numbers[partij].verwacht for partij in selected))\n",
    "    seats.high = int(sum(numbers[partij].hoog for partij in selected))\n",
    "\n",
    "    #     print(f\"verwacht aantal zetels: {expectation_value} (laag: {low}, hoog: {high})\")\n",
    "\n",
    "interact_out = widgets.interactive_output(on_toggle, toggle_buttons)\n",
    "display(seats)\n",
    "display(grid, interact_out)"
   ]
  },
  {
   "cell_type": "code",
   "execution_count": null,
   "metadata": {},
   "outputs": [],
   "source": []
  }
 ],
 "metadata": {
  "kernelspec": {
   "display_name": "Python 3",
   "language": "python",
   "name": "python3"
  },
  "language_info": {
   "codemirror_mode": {
    "name": "ipython",
    "version": 3
   },
   "file_extension": ".py",
   "mimetype": "text/x-python",
   "name": "python",
   "nbconvert_exporter": "python",
   "pygments_lexer": "ipython3",
   "version": "3.8.2"
  }
 },
 "nbformat": 4,
 "nbformat_minor": 4
}
