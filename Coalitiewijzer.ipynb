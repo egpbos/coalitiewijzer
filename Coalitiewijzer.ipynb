{
 "cells": [
  {
   "cell_type": "code",
   "execution_count": 1,
   "metadata": {},
   "outputs": [],
   "source": [
    "import pickle\n",
    "from collections import namedtuple\n",
    "\n",
    "import os\n",
    "from urllib.parse import parse_qs\n",
    "\n",
    "import ipywidgets as widgets\n",
    "from ipyvuetify import VuetifyTemplate\n",
    "import traitlets\n",
    "\n",
    "Peiling = namedtuple('Peiling', ['verwacht', 'laag', 'hoog'])"
   ]
  },
  {
   "cell_type": "code",
   "execution_count": 2,
   "metadata": {},
   "outputs": [],
   "source": [
    "with open('peilingen.pkl', 'rb') as fh:\n",
    "    numbers = pickle.load(fh)\n",
    "\n",
    "with open('table.pkl', 'rb') as fh:\n",
    "    table = pickle.load(fh)"
   ]
  },
  {
   "cell_type": "code",
   "execution_count": 30,
   "metadata": {},
   "outputs": [],
   "source": [
    "query_string = os.environ.get('QUERY_STRING', '')\n",
    "server = os.environ.get('SERVER_NAME', 'localhost')\n",
    "base_url = \"http://\" + server\n",
    "port = os.environ.get('SERVER_PORT', '')\n",
    "if port:\n",
    "    base_url += \":\" + port\n",
    "base_url += os.environ.get('SCRIPT_NAME', '')\n",
    "url_picked_parties = (party for party, _ in parse_qs(query_string).items() if party in numbers.keys())"
   ]
  },
  {
   "cell_type": "markdown",
   "metadata": {},
   "source": [
    "# Coalitiewijzer"
   ]
  },
  {
   "cell_type": "code",
   "execution_count": 4,
   "metadata": {},
   "outputs": [],
   "source": [
    "class SeatsWidget(VuetifyTemplate):\n",
    "    rows = traitlets.Int(5).tag(sync=True)\n",
    "    cols = traitlets.Int(30).tag(sync=True)\n",
    "    low = traitlets.Int(0).tag(sync=True)\n",
    "    exp = traitlets.Int(0).tag(sync=True)\n",
    "    high = traitlets.Int(0).tag(sync=True)\n",
    "    template = traitlets.Unicode('''\n",
    "<template>\n",
    "    <div>\n",
    "        <table>\n",
    "        <tr v-for=\"i in rows\">\n",
    "            <td v-for=\"j in cols/2\">\n",
    "                <div>\n",
    "                    <v-icon v-if=\"((j-1) * rows + i) < low\"        style=\"color: #666666\">mdi-seat</v-icon>\n",
    "                    <v-icon v-else-if=\"((j-1) * rows + i) < exp\"   style=\"color: red; opacity: 30%; transform: rotate(90deg)\">mdi-seat</v-icon>\n",
    "                    <v-icon v-else-if=\"((j-1) * rows + i) == exp\"  style=\"color: red\">mdi-seat</v-icon>\n",
    "                    <v-icon v-else-if=\"((j-1) * rows + i) <= high\" style=\"color: red; opacity: 30%; transform: rotate(-90deg)\">mdi-seat</v-icon>\n",
    "                    <v-icon v-else style=\"color: #bbbbbb; transform: rotate(180deg)\">mdi-seat</v-icon>\n",
    "                </div>\n",
    "            </td>\n",
    "            <td>\n",
    "                <div>\n",
    "                    <v-icon style=\"color: blue\">mdi-dots-vertical</v-icon>\n",
    "                </div>\n",
    "            </td>\n",
    "            <td v-for=\"j in cols/2\">\n",
    "                <div>\n",
    "                    <v-icon v-if=\"((j + cols/2 - 1) * rows + i) < low\"        style=\"color: #666666\">mdi-seat</v-icon>\n",
    "                    <v-icon v-else-if=\"((j + cols/2 - 1) * rows + i) < exp\"   style=\"color: red; opacity: 30%; transform: rotate(90deg)\">mdi-seat</v-icon>\n",
    "                    <v-icon v-else-if=\"((j + cols/2 - 1) * rows + i) == exp\"  style=\"color: red\">mdi-seat</v-icon>\n",
    "                    <v-icon v-else-if=\"((j + cols/2 - 1) * rows + i) <= high\" style=\"color: red; opacity: 30%; transform: rotate(-90deg)\">mdi-seat</v-icon>\n",
    "                    <v-icon v-else style=\"color: #bbbbbb; transform: rotate(180deg)\">mdi-seat</v-icon>\n",
    "                </div>\n",
    "            </td>\n",
    "        </tr>\n",
    "    </div>\n",
    "</template>\n",
    "''').tag(sync=True)\n",
    "    \n",
    "seats = SeatsWidget()"
   ]
  },
  {
   "cell_type": "code",
   "execution_count": 27,
   "metadata": {},
   "outputs": [],
   "source": [
    "toggle_buttons = {key: widgets.ToggleButton(description=key, value=(key in url_picked_parties),\n",
    "                                            layout=widgets.Layout(height='auto', width='auto'))\n",
    "                  for key in numbers.keys()}\n",
    "\n",
    "grid_width = 5\n",
    "\n",
    "grid = widgets.GridspecLayout((len(numbers) - 1) // grid_width + 1, grid_width)\n",
    "for ix, (key, button) in enumerate(toggle_buttons.items()):\n",
    "    ix1, ix2 = ix // grid_width, ix % grid_width\n",
    "    grid[ix1, ix2] = button"
   ]
  },
  {
   "cell_type": "code",
   "execution_count": 46,
   "metadata": {},
   "outputs": [],
   "source": [
    "share_url = widgets.HTML(\n",
    "    value=f'<a href=\"{base_url}\">{base_url}</a>',\n",
    "    description='Share link:',\n",
    ")"
   ]
  },
  {
   "cell_type": "code",
   "execution_count": 42,
   "metadata": {},
   "outputs": [
    {
     "data": {
      "application/vnd.jupyter.widget-view+json": {
       "model_id": "7626f8c646e7488db0e75dd12f1eff3c",
       "version_major": 2,
       "version_minor": 0
      },
      "text/plain": [
       "SeatsWidget(events=[], exp=76, high=79, low=73)"
      ]
     },
     "metadata": {},
     "output_type": "display_data"
    },
    {
     "data": {
      "application/vnd.jupyter.widget-view+json": {
       "model_id": "9bbb64bcb3084f4283aba2ee930fe246",
       "version_major": 2,
       "version_minor": 0
      },
      "text/plain": [
       "GridspecLayout(children=(ToggleButton(value=True, description='VVD', layout=Layout(grid_area='widget001', heig…"
      ]
     },
     "metadata": {},
     "output_type": "display_data"
    },
    {
     "data": {
      "application/vnd.jupyter.widget-view+json": {
       "model_id": "7be9af1ebfe44e48b6de28b8734fc1d2",
       "version_major": 2,
       "version_minor": 0
      },
      "text/plain": [
       "Output()"
      ]
     },
     "metadata": {},
     "output_type": "display_data"
    }
   ],
   "source": [
    "def on_toggle(**toggles):\n",
    "    selected = tuple(partij for partij, partij_selected in toggles.items() if partij_selected)\n",
    "    peiling = table[selected]\n",
    "\n",
    "    seats.low = peiling.laag\n",
    "    seats.exp = peiling.verwacht\n",
    "    seats.high = peiling.hoog\n",
    "    \n",
    "    url = base_url\n",
    "    if len(selected) > 0:\n",
    "        url = base_url + \"?\" + \"&\".join(f\"{s}=1\" for s in selected)\n",
    "\n",
    "    share_url.value = f'<a href=\"{url}\">{url}</a>'\n",
    "\n",
    "    #     print(f\"verwacht aantal zetels: {expectation_value} (laag: {low}, hoog: {high})\")\n",
    "\n",
    "interact_out = widgets.interactive_output(on_toggle, toggle_buttons)\n",
    "display(seats)\n",
    "display(grid, interact_out)"
   ]
  },
  {
   "cell_type": "markdown",
   "metadata": {},
   "source": [
    "Druk op de knoppen om partijen toe te voegen aan je coalitie. Een meerderheid heeft 76 zetels nodig. De helder rode zetel is het verwachte aantal zetels. In licht rood (zijwaarts gekantelde zetels) zie je onder- en bovengrenzen van het verwachte aantal zetels op basis van verschillende peilingen.\n",
    "\n",
    "Press the buttons to add parties to your coalition. A majority coalition needs 76 seats. The bright red seat is the expected number of seats. In light red (tipped sideways seats) we show the lower and upper limits of the expected amount of seats based on different polls."
   ]
  },
  {
   "cell_type": "code",
   "execution_count": 45,
   "metadata": {},
   "outputs": [
    {
     "data": {
      "application/vnd.jupyter.widget-view+json": {
       "model_id": "6fc61df519e64a1aa74fc631b59702e0",
       "version_major": 2,
       "version_minor": 0
      },
      "text/plain": [
       "HTML(value='<a href=\"http://localhost\">http://localhost</a>', description='Sharing link:')"
      ]
     },
     "metadata": {},
     "output_type": "display_data"
    }
   ],
   "source": [
    "display(share_url)"
   ]
  },
  {
   "cell_type": "markdown",
   "metadata": {},
   "source": [
    "---\n",
    "\n",
    "Data: [Peilingwijzer (op basis van peilingen I&O Research, Ipsos en Kantar)](https://peilingwijzer.tomlouwerse.nl/). Code: [see blogpost on Medium](https://blog.esciencecenter.nl/coalition-polls-for-the-people-with-coalitiewijzer-68bca83b95e7).\n",
    "\n",
    "By [Patrick Bos](https://twitter.com/egpbos/)\n",
    "\n",
    "[<img src=\"logo.png\" alt=\"Netherlands eScience Center logo\" style=\"height: 1.5em;\" align=\"left\"/>](https://esciencecenter.nl/)"
   ]
  },
  {
   "cell_type": "code",
   "execution_count": null,
   "metadata": {},
   "outputs": [],
   "source": []
  }
 ],
 "metadata": {
  "kernelspec": {
   "display_name": "Python 3",
   "language": "python",
   "name": "python3"
  },
  "language_info": {
   "codemirror_mode": {
    "name": "ipython",
    "version": 3
   },
   "file_extension": ".py",
   "mimetype": "text/x-python",
   "name": "python",
   "nbconvert_exporter": "python",
   "pygments_lexer": "ipython3",
   "version": "3.8.2"
  }
 },
 "nbformat": 4,
 "nbformat_minor": 4
}
