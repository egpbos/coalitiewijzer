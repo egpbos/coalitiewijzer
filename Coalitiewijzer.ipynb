{
 "cells": [
  {
   "cell_type": "code",
   "execution_count": null,
   "metadata": {},
   "outputs": [],
   "source": [
    "import pickle\n",
    "from collections import namedtuple\n",
    "\n",
    "import math\n",
    "import statistics\n",
    "\n",
    "import ipywidgets as widgets\n",
    "from ipyvuetify import VuetifyTemplate\n",
    "import traitlets\n",
    "\n",
    "Peiling = namedtuple('Peiling', ['verwacht', 'laag', 'hoog'])"
   ]
  },
  {
   "cell_type": "code",
   "execution_count": null,
   "metadata": {},
   "outputs": [],
   "source": [
    "with open('simulations.pkl', 'rb') as fh:\n",
    "    numbers = pickle.load(fh)"
   ]
  },
  {
   "cell_type": "markdown",
   "metadata": {},
   "source": [
    "# Coalitiewijzer"
   ]
  },
  {
   "cell_type": "code",
   "execution_count": null,
   "metadata": {},
   "outputs": [],
   "source": [
    "class SeatsWidget(VuetifyTemplate):\n",
    "    rows = traitlets.Int(5).tag(sync=True)\n",
    "    cols = traitlets.Int(30).tag(sync=True)\n",
    "    low = traitlets.Int(0).tag(sync=True)\n",
    "    exp = traitlets.Int(0).tag(sync=True)\n",
    "    high = traitlets.Int(0).tag(sync=True)\n",
    "    template = traitlets.Unicode('''\n",
    "<template>\n",
    "    <div>\n",
    "        <table>\n",
    "        <tr v-for=\"i in rows\">\n",
    "            <td v-for=\"j in cols/2\">\n",
    "                <div>\n",
    "                    <v-icon v-if=\"((j-1) * rows + i) < low\"        style=\"color: #666666\">mdi-seat</v-icon>\n",
    "                    <v-icon v-else-if=\"((j-1) * rows + i) < exp\"   style=\"color: red; opacity: 30%; transform: rotate(90deg)\">mdi-seat</v-icon>\n",
    "                    <v-icon v-else-if=\"((j-1) * rows + i) == exp\"  style=\"color: red\">mdi-seat</v-icon>\n",
    "                    <v-icon v-else-if=\"((j-1) * rows + i) <= high\" style=\"color: red; opacity: 30%; transform: rotate(-90deg)\">mdi-seat</v-icon>\n",
    "                    <v-icon v-else style=\"color: #bbbbbb; transform: rotate(180deg)\">mdi-seat</v-icon>\n",
    "                </div>\n",
    "            </td>\n",
    "            <td>\n",
    "                <div>\n",
    "                    <v-icon style=\"color: blue\">mdi-dots-vertical</v-icon>\n",
    "                </div>\n",
    "            </td>\n",
    "            <td v-for=\"j in cols/2\">\n",
    "                <div>\n",
    "                    <v-icon v-if=\"((j + cols/2 - 1) * rows + i) < low\"        style=\"color: #666666\">mdi-seat</v-icon>\n",
    "                    <v-icon v-else-if=\"((j + cols/2 - 1) * rows + i) < exp\"   style=\"color: red; opacity: 30%; transform: rotate(90deg)\">mdi-seat</v-icon>\n",
    "                    <v-icon v-else-if=\"((j + cols/2 - 1) * rows + i) == exp\"  style=\"color: red\">mdi-seat</v-icon>\n",
    "                    <v-icon v-else-if=\"((j + cols/2 - 1) * rows + i) <= high\" style=\"color: red; opacity: 30%; transform: rotate(-90deg)\">mdi-seat</v-icon>\n",
    "                    <v-icon v-else style=\"color: #bbbbbb; transform: rotate(180deg)\">mdi-seat</v-icon>\n",
    "                </div>\n",
    "            </td>\n",
    "        </tr>\n",
    "    </div>\n",
    "</template>\n",
    "''').tag(sync=True)\n",
    "    \n",
    "seats = SeatsWidget()"
   ]
  },
  {
   "cell_type": "code",
   "execution_count": null,
   "metadata": {},
   "outputs": [],
   "source": [
    "toggle_buttons = {key: widgets.ToggleButton(description=key, value=False,\n",
    "                                            layout=widgets.Layout(height='auto', width='auto'))\n",
    "                  for key in numbers.keys()}\n",
    "\n",
    "grid_width = 5\n",
    "\n",
    "grid = widgets.GridspecLayout((len(numbers) - 1) // grid_width + 1, grid_width)\n",
    "for ix, (key, button) in enumerate(toggle_buttons.items()):\n",
    "    ix1, ix2 = ix // grid_width, ix % grid_width\n",
    "    grid[ix1, ix2] = button"
   ]
  },
  {
   "cell_type": "code",
   "execution_count": null,
   "metadata": {},
   "outputs": [],
   "source": [
    "def sum_coalition(data, *parties):\n",
    "    return [sum(elements) for elements in zip(*(data[party] for party in parties))]"
   ]
  },
  {
   "cell_type": "code",
   "execution_count": null,
   "metadata": {},
   "outputs": [],
   "source": [
    "def to_Peiling_from_simulations(simulations):\n",
    "    def estimate_Peiling(est, std):\n",
    "        interval = math.ceil((2 * std))\n",
    "        return Peiling(verwacht=int(est),\n",
    "                       laag=int(max(0, est - interval)),\n",
    "                       hoog=int(min(est + interval, 150)))\n",
    "\n",
    "    if len(simulations) == 0:\n",
    "        return Peiling(0, 0, 0)\n",
    "    est = round(statistics.mean(simulations))\n",
    "    return estimate_Peiling(est, statistics.stdev(simulations))"
   ]
  },
  {
   "cell_type": "code",
   "execution_count": null,
   "metadata": {},
   "outputs": [],
   "source": [
    "def on_toggle(**toggles):\n",
    "    selected = [partij for partij, partij_selected in toggles.items() if partij_selected]\n",
    "    peiling = to_Peiling_from_simulations(sum_coalition(numbers, *selected))\n",
    "\n",
    "    seats.low = peiling.laag\n",
    "    seats.exp = peiling.verwacht\n",
    "    seats.high = peiling.hoog\n",
    "\n",
    "    #     print(f\"verwacht aantal zetels: {expectation_value} (laag: {low}, hoog: {high})\")\n",
    "\n",
    "interact_out = widgets.interactive_output(on_toggle, toggle_buttons)\n",
    "display(seats)\n",
    "display(grid, interact_out)"
   ]
  },
  {
   "cell_type": "markdown",
   "metadata": {},
   "source": [
    "Druk op de knoppen om partijen toe te voegen aan je coalitie. Een meerderheid heeft 76 zetels nodig. De helder rode zetel is het verwachte aantal zetels. In licht rood (zijwaarts gekantelde zetels) zie je onder- en bovengrenzen van het verwachte aantal zetels op basis van verschillende peilingen.\n",
    "\n",
    "Press the buttons to add parties to your coalition. A majority coalition needs 76 seats. The bright red seat is the expected number of seats. In light red (tipped sideways seats) we show the lower and upper limits of the expected amount of seats based on different polls.\n",
    "\n",
    "---\n",
    "\n",
    "Data: [Peilingwijzer (op basis van peilingen I&O Research, Ipsos en Kantar)](https://peilingwijzer.tomlouwerse.nl/). Code: [see blogpost on Medium](https://blog.esciencecenter.nl/coalition-polls-for-the-people-with-coalitiewijzer-68bca83b95e7).\n",
    "\n",
    "By [Patrick Bos](https://twitter.com/egpbos/)\n",
    "\n",
    "[<img src=\"logo.png\" alt=\"Netherlands eScience Center logo\" style=\"height: 1.5em;\" align=\"left\"/>](https://esciencecenter.nl/)"
   ]
  },
  {
   "cell_type": "code",
   "execution_count": null,
   "metadata": {},
   "outputs": [],
   "source": []
  }
 ],
 "metadata": {
  "language_info": {
   "name": "python",
   "pygments_lexer": "ipython3"
  }
 },
 "nbformat": 4,
 "nbformat_minor": 4
}
