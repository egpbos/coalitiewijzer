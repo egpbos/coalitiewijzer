{
 "cells": [
  {
   "cell_type": "code",
   "execution_count": null,
   "metadata": {},
   "outputs": [],
   "source": [
    "import pickle\n",
    "from collections import namedtuple\n",
    "\n",
    "import os\n",
    "from urllib.parse import parse_qs\n",
    "\n",
    "import ipywidgets as widgets\n",
    "import ipyvuetify as v\n",
    "import traitlets\n",
    "\n",
    "Peiling = namedtuple('Peiling', ['verwacht', 'laag', 'hoog'])"
   ]
  },
  {
   "cell_type": "code",
   "execution_count": null,
   "metadata": {},
   "outputs": [],
   "source": [
    "with open('peilingen.pkl', 'rb') as fh:\n",
    "    numbers = pickle.load(fh)\n",
    "with open('table.pkl', 'rb') as fh:\n",
    "    table = pickle.load(fh)\n",
    "\n",
    "parties = list(numbers.keys())"
   ]
  },
  {
   "cell_type": "code",
   "execution_count": null,
   "metadata": {},
   "outputs": [],
   "source": [
    "query_string = os.environ.get('QUERY_STRING', '')\n",
    "server = os.environ.get('SERVER_NAME', 'localhost')\n",
    "base_url = \"http://\" + server\n",
    "port = os.environ.get('SERVER_PORT', '')\n",
    "if port:\n",
    "    base_url += \":\" + port\n",
    "base_url += os.environ.get('SCRIPT_NAME', '')\n",
    "\n",
    "parties_in_query = parse_qs(query_string).get('parties', [''])[0].split(sep=',')\n",
    "url_picked_parties = tuple(set(parties_in_query) & set(parties))"
   ]
  },
  {
   "cell_type": "markdown",
   "metadata": {},
   "source": [
    "# Coalitiewijzer"
   ]
  },
  {
   "cell_type": "code",
   "execution_count": null,
   "metadata": {},
   "outputs": [],
   "source": [
    "class SeatsWidget(v.VuetifyTemplate):\n",
    "    rows = traitlets.Int(5).tag(sync=True)\n",
    "    cols = traitlets.Int(30).tag(sync=True)\n",
    "    low = traitlets.Int(0).tag(sync=True)\n",
    "    exp = traitlets.Int(0).tag(sync=True)\n",
    "    high = traitlets.Int(0).tag(sync=True)\n",
    "    template = traitlets.Unicode('''\n",
    "<template>\n",
    "    <div>\n",
    "        <table>\n",
    "        <tr v-for=\"i in rows\">\n",
    "            <td v-for=\"j in cols/2\">\n",
    "                <div>\n",
    "                    <v-icon v-if=\"((j-1) * rows + i) < low\"        style=\"color: #666666\">mdi-seat</v-icon>\n",
    "                    <v-icon v-else-if=\"((j-1) * rows + i) < exp\"   style=\"color: red; opacity: 30%; transform: rotate(90deg)\">mdi-seat</v-icon>\n",
    "                    <v-icon v-else-if=\"((j-1) * rows + i) == exp\"  style=\"color: red\">mdi-seat</v-icon>\n",
    "                    <v-icon v-else-if=\"((j-1) * rows + i) <= high\" style=\"color: red; opacity: 30%; transform: rotate(-90deg)\">mdi-seat</v-icon>\n",
    "                    <v-icon v-else style=\"color: #bbbbbb; transform: rotate(180deg)\">mdi-seat</v-icon>\n",
    "                </div>\n",
    "            </td>\n",
    "            <td>\n",
    "                <div>\n",
    "                    <v-icon style=\"color: blue\">mdi-dots-vertical</v-icon>\n",
    "                </div>\n",
    "            </td>\n",
    "            <td v-for=\"j in cols/2\">\n",
    "                <div>\n",
    "                    <v-icon v-if=\"((j + cols/2 - 1) * rows + i) < low\"        style=\"color: #666666\">mdi-seat</v-icon>\n",
    "                    <v-icon v-else-if=\"((j + cols/2 - 1) * rows + i) < exp\"   style=\"color: red; opacity: 30%; transform: rotate(90deg)\">mdi-seat</v-icon>\n",
    "                    <v-icon v-else-if=\"((j + cols/2 - 1) * rows + i) == exp\"  style=\"color: red\">mdi-seat</v-icon>\n",
    "                    <v-icon v-else-if=\"((j + cols/2 - 1) * rows + i) <= high\" style=\"color: red; opacity: 30%; transform: rotate(-90deg)\">mdi-seat</v-icon>\n",
    "                    <v-icon v-else style=\"color: #bbbbbb; transform: rotate(180deg)\">mdi-seat</v-icon>\n",
    "                </div>\n",
    "            </td>\n",
    "        </tr>\n",
    "    </div>\n",
    "</template>\n",
    "''').tag(sync=True)\n",
    "\n",
    "seats = SeatsWidget()"
   ]
  },
  {
   "cell_type": "code",
   "execution_count": null,
   "metadata": {},
   "outputs": [],
   "source": [
    "url_picked_party_indices = [ix for ix, party in enumerate(parties) if party in url_picked_parties]\n",
    "buttons = {party: v.Btn(text=True, children=[party]) for party in parties}\n",
    "\n",
    "toggle_multi = v.BtnToggle(v_model=url_picked_party_indices, multiple=True, children=list(buttons.values()))"
   ]
  },
  {
   "cell_type": "code",
   "execution_count": null,
   "metadata": {},
   "outputs": [],
   "source": [
    "url = base_url\n",
    "if len(query_string) > 0:\n",
    "    url += query_string\n",
    "\n",
    "share_url = widgets.HTML(\n",
    "    value=f'<a href=\"{url}\">{url}</a>',\n",
    "    description='Share link:',\n",
    ")"
   ]
  },
  {
   "cell_type": "code",
   "execution_count": null,
   "metadata": {},
   "outputs": [],
   "source": [
    "def on_toggle(btn_toggle, event, data):\n",
    "    selected = tuple(parties[ix] for ix in sorted(data))\n",
    "    if len(selected) == 1:\n",
    "        peiling = numbers[selected[0]]\n",
    "    else:\n",
    "        peiling = table[selected]\n",
    "\n",
    "    seats.low = peiling.laag\n",
    "    seats.exp = peiling.verwacht\n",
    "    seats.high = peiling.hoog\n",
    "    \n",
    "    url = base_url\n",
    "    if len(selected) > 0:\n",
    "        url = base_url + \"?\" + \"parties=\" + \",\".join(selected)\n",
    "\n",
    "    share_url.value = f'<a href=\"{url}\">{url}</a>'\n",
    "\n",
    "toggle_multi.on_event('change', on_toggle)\n",
    "if len(url_picked_party_indices) > 0:\n",
    "    on_toggle(None, None, url_picked_party_indices)\n",
    "\n",
    "display(seats)\n",
    "v.Layout(children=[toggle_multi])"
   ]
  },
  {
   "cell_type": "markdown",
   "metadata": {},
   "source": [
    "Druk op de knoppen om partijen toe te voegen aan je coalitie. Een meerderheid heeft 76 zetels nodig. De helder rode zetel is het verwachte aantal zetels. In licht rood (zijwaarts gekantelde zetels) zie je onder- en bovengrenzen van het verwachte aantal zetels op basis van verschillende peilingen.\n",
    "\n",
    "Press the buttons to add parties to your coalition. A majority coalition needs 76 seats. The bright red seat is the expected number of seats. In light red (tipped sideways seats) we show the lower and upper limits of the expected amount of seats based on different polls."
   ]
  },
  {
   "cell_type": "code",
   "execution_count": null,
   "metadata": {},
   "outputs": [],
   "source": [
    "display(share_url)"
   ]
  },
  {
   "cell_type": "markdown",
   "metadata": {},
   "source": [
    "---\n",
    "\n",
    "Data: [Peilingwijzer (op basis van peilingen I&O Research, Ipsos en Kantar)](https://peilingwijzer.tomlouwerse.nl/). Code: [see blogpost on Medium](https://blog.esciencecenter.nl/coalition-polls-for-the-people-with-coalitiewijzer-68bca83b95e7).\n",
    "\n",
    "By [Patrick Bos](https://twitter.com/egpbos/)\n",
    "\n",
    "[<img src=\"logo.png\" alt=\"Netherlands eScience Center logo\" style=\"height: 1.5em;\" align=\"left\"/>](https://esciencecenter.nl/)"
   ]
  },
  {
   "cell_type": "code",
   "execution_count": null,
   "metadata": {},
   "outputs": [],
   "source": []
  }
 ],
 "metadata": {
  "kernelspec": {
   "display_name": "Python 3",
   "language": "python",
   "name": "python3"
  },
  "language_info": {
   "codemirror_mode": {
    "name": "ipython",
    "version": 3
   },
   "file_extension": ".py",
   "mimetype": "text/x-python",
   "name": "python",
   "nbconvert_exporter": "python",
   "pygments_lexer": "ipython3",
   "version": "3.8.2"
  }
 },
 "nbformat": 4,
 "nbformat_minor": 4
}
