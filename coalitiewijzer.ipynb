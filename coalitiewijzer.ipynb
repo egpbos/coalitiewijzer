{
 "cells": [
  {
   "cell_type": "markdown",
   "metadata": {},
   "source": [
    "# Download data"
   ]
  },
  {
   "cell_type": "code",
   "execution_count": null,
   "metadata": {},
   "outputs": [],
   "source": [
    "# !curl -s https://d1bjgq97if6urz.cloudfront.net/Public/Peilingwijzer/Last/Cijfers_Peilingwijzer.xlsx -o Cijfers_Peilingwijzer.xlsx"
   ]
  },
  {
   "cell_type": "markdown",
   "metadata": {},
   "source": [
    "# Import data"
   ]
  },
  {
   "cell_type": "code",
   "execution_count": null,
   "metadata": {},
   "outputs": [],
   "source": [
    "import pandas as pd"
   ]
  },
  {
   "cell_type": "code",
   "execution_count": null,
   "metadata": {},
   "outputs": [],
   "source": [
    "numbers = pd.read_excel('Cijfers_Peilingwijzer.xlsx', header=0, index_col=0)"
   ]
  },
  {
   "cell_type": "markdown",
   "metadata": {},
   "source": [
    "## Sanity check: recreate plot from Peilingwijzer\n",
    "https://peilingwijzer.tomlouwerse.nl/p/laatste-cijfers.html"
   ]
  },
  {
   "cell_type": "code",
   "execution_count": null,
   "metadata": {},
   "outputs": [],
   "source": [
    "zetels = numbers.drop(columns=['Datum', 'Percentage', 'PercentageLaag', 'PercentageHoog'])"
   ]
  },
  {
   "cell_type": "code",
   "execution_count": null,
   "metadata": {},
   "outputs": [],
   "source": [
    "zetels['ZetelsHoog'] = zetels['ZetelsHoog'] - zetels['Zetels']\n",
    "zetels['Zetels'] = zetels['Zetels'] - zetels['ZetelsLaag']"
   ]
  },
  {
   "cell_type": "code",
   "execution_count": null,
   "metadata": {},
   "outputs": [],
   "source": [
    "zetels = zetels.reindex(['ZetelsLaag', 'Zetels', 'ZetelsHoog'], axis=1)"
   ]
  },
  {
   "cell_type": "code",
   "execution_count": null,
   "metadata": {},
   "outputs": [],
   "source": [
    "zetels.plot.bar(stacked=True, figsize=(11, 8))"
   ]
  },
  {
   "cell_type": "markdown",
   "metadata": {},
   "source": [
    "# Coalitiewijzer!\n",
    "Press the buttons and get the number of seats of your selected coalition. A majority coalition needs 76 seats."
   ]
  },
  {
   "cell_type": "code",
   "execution_count": null,
   "metadata": {},
   "outputs": [],
   "source": [
    "import ipywidgets as widgets\n",
    "from ipyvuetify import VuetifyTemplate, Btn\n",
    "import traitlets"
   ]
  },
  {
   "cell_type": "code",
   "execution_count": null,
   "metadata": {},
   "outputs": [],
   "source": [
    "class SeatsWidget(VuetifyTemplate):\n",
    "    rows = traitlets.Int(5).tag(sync=True)\n",
    "    cols = traitlets.Int(30).tag(sync=True)\n",
    "    low = traitlets.Int(0).tag(sync=True)\n",
    "    exp = traitlets.Int(0).tag(sync=True)\n",
    "    high = traitlets.Int(0).tag(sync=True)\n",
    "    template = traitlets.Unicode('''\n",
    "<template>\n",
    "    <div>\n",
    "        <table>\n",
    "        <tr v-for=\"i in rows\">\n",
    "            <td v-for=\"j in cols/2\">\n",
    "                <div>\n",
    "                    <v-icon v-if=\"((j-1) * rows + i) < low\"        style=\"color: #666666\">mdi-seat</v-icon>\n",
    "                    <v-icon v-else-if=\"((j-1) * rows + i) < exp\"   style=\"color: red; opacity: 30%; transform: rotate(90deg)\">mdi-seat</v-icon>\n",
    "                    <v-icon v-else-if=\"((j-1) * rows + i) == exp\"  style=\"color: red\">mdi-seat</v-icon>\n",
    "                    <v-icon v-else-if=\"((j-1) * rows + i) <= high\" style=\"color: red; opacity: 30%; transform: rotate(-90deg)\">mdi-seat</v-icon>\n",
    "                    <v-icon v-else style=\"color: #bbbbbb; transform: rotate(180deg)\">mdi-seat</v-icon>\n",
    "                </div>\n",
    "            </td>\n",
    "            <td>\n",
    "                <div>\n",
    "                    <v-icon style=\"color: blue\">mdi-dots-vertical</v-icon>\n",
    "                </div>\n",
    "            </td>\n",
    "            <td v-for=\"j in cols/2\">\n",
    "                <div>\n",
    "                    <v-icon v-if=\"((j + cols/2 - 1) * rows + i) < low\"        style=\"color: #666666\">mdi-seat</v-icon>\n",
    "                    <v-icon v-else-if=\"((j + cols/2 - 1) * rows + i) < exp\"   style=\"color: red; opacity: 30%; transform: rotate(90deg)\">mdi-seat</v-icon>\n",
    "                    <v-icon v-else-if=\"((j + cols/2 - 1) * rows + i) == exp\"  style=\"color: red\">mdi-seat</v-icon>\n",
    "                    <v-icon v-else-if=\"((j + cols/2 - 1) * rows + i) <= high\" style=\"color: red; opacity: 30%; transform: rotate(-90deg)\">mdi-seat</v-icon>\n",
    "                    <v-icon v-else style=\"color: #bbbbbb; transform: rotate(180deg)\">mdi-seat</v-icon>\n",
    "                </div>\n",
    "            </td>\n",
    "        </tr>\n",
    "    </div>\n",
    "</template>\n",
    "''').tag(sync=True)\n",
    "    \n",
    "seats = SeatsWidget()"
   ]
  },
  {
   "cell_type": "code",
   "execution_count": null,
   "metadata": {},
   "outputs": [],
   "source": [
    "toggle_buttons = {key: widgets.ToggleButton(description=key, value=False,\n",
    "                                            layout=widgets.Layout(height='auto', width='auto'))\n",
    "                  for key in numbers.index}\n",
    "\n",
    "grid_width = 5\n",
    "\n",
    "grid = widgets.GridspecLayout((len(numbers) - 1) // grid_width + 1, grid_width)\n",
    "for ix, (key, button) in enumerate(toggle_buttons.items()):\n",
    "    ix1, ix2 = ix // grid_width, ix % grid_width\n",
    "    grid[ix1, ix2] = button\n",
    "\n",
    "ASCII_grid_width = 30    \n",
    "\n",
    "ASCII_grid_height = (150 - 1) // ASCII_grid_width + 1\n",
    "ASCII = widgets.GridspecLayout(ASCII_grid_height, ASCII_grid_width)\n",
    "\n",
    "for ix in range(150):\n",
    "    ix1, ix2 = ix // ASCII_grid_width, ix % ASCII_grid_width\n",
    "\n",
    "    ASCII[ix1, ix2] = widgets.HTML(value='.', disabled=False,\n",
    "                                   layout=widgets.Layout(height='auto', width='auto'),\n",
    "                                   )"
   ]
  },
  {
   "cell_type": "code",
   "execution_count": null,
   "metadata": {},
   "outputs": [],
   "source": [
    "def on_toggle(**toggles):\n",
    "    expectation_value = int(numbers[list(toggles.values())].Zetels.sum())\n",
    "    low = int(numbers[list(toggles.values())].ZetelsLaag.sum())\n",
    "    high = int(numbers[list(toggles.values())].ZetelsHoog.sum())\n",
    "    print(f\"verwacht aantal zetels: {expectation_value} (laag: {low}, hoog: {high})\")\n",
    "\n",
    "    seats.low = low\n",
    "    seats.exp = expectation_value\n",
    "    seats.high = high\n",
    "\n",
    "    count = 1\n",
    "    for ix in range(150):\n",
    "        ix1, ix2 = ix % ASCII_grid_height, ix // ASCII_grid_height\n",
    "        if count > high:\n",
    "            value = '.'\n",
    "        elif count > expectation_value:\n",
    "            value = 'o'\n",
    "        elif count == expectation_value:\n",
    "            value = 'O'\n",
    "        elif count >= low:\n",
    "            value = 'o'\n",
    "        else:\n",
    "            value = '-'\n",
    "        count += 1\n",
    "        \n",
    "        ASCII[ix1, ix2].value = value\n",
    "\n",
    "interact_out = widgets.interactive_output(on_toggle, toggle_buttons)\n",
    "display(grid, interact_out)\n",
    "display(ASCII)\n",
    "display(seats)"
   ]
  },
  {
   "cell_type": "code",
   "execution_count": null,
   "metadata": {},
   "outputs": [],
   "source": []
  }
 ],
 "metadata": {
  "kernelspec": {
   "display_name": "Python 3",
   "language": "python",
   "name": "python3"
  },
  "language_info": {
   "codemirror_mode": {
    "name": "ipython",
    "version": 3
   },
   "file_extension": ".py",
   "mimetype": "text/x-python",
   "name": "python",
   "nbconvert_exporter": "python",
   "pygments_lexer": "ipython3",
   "version": "3.8.2"
  }
 },
 "nbformat": 4,
 "nbformat_minor": 4
}
