{
 "cells": [
  {
   "cell_type": "markdown",
   "metadata": {},
   "source": [
    "# Download data"
   ]
  },
  {
   "cell_type": "code",
   "execution_count": null,
   "metadata": {},
   "outputs": [],
   "source": [
    "# !curl -s https://d1bjgq97if6urz.cloudfront.net/Public/Peilingwijzer/Last/Cijfers_Peilingwijzer.xlsx -o Cijfers_Peilingwijzer.xlsx"
   ]
  },
  {
   "cell_type": "markdown",
   "metadata": {},
   "source": [
    "# Install dependencies\n",
    "With your favorite package manager, right from the comfort of your notebook."
   ]
  },
  {
   "cell_type": "code",
   "execution_count": null,
   "metadata": {},
   "outputs": [],
   "source": [
    "# %conda install pandas openpyxl matplotlib ipywidgets \n",
    "# %pip install pandas openpyxl matplotlib ipywidgets"
   ]
  },
  {
   "cell_type": "markdown",
   "metadata": {},
   "source": [
    "# Import data\n",
    "The Excel file when first downloaded for some reason doesn't want to load for me. If I open it in Excel and manually save it, it works again. /shrug"
   ]
  },
  {
   "cell_type": "code",
   "execution_count": null,
   "metadata": {},
   "outputs": [],
   "source": [
    "import pandas as pd"
   ]
  },
  {
   "cell_type": "code",
   "execution_count": null,
   "metadata": {},
   "outputs": [],
   "source": [
    "numbers = pd.read_excel('Cijfers_Peilingwijzer.xlsx', header=0, index_col=0, engine='openpyxl',\n",
    "                       )"
   ]
  },
  {
   "cell_type": "markdown",
   "metadata": {},
   "source": [
    "## Sanity check: recreate plot from Peilingwijzer\n",
    "https://peilingwijzer.tomlouwerse.nl/p/laatste-cijfers.html"
   ]
  },
  {
   "cell_type": "code",
   "execution_count": null,
   "metadata": {},
   "outputs": [],
   "source": [
    "zetels = numbers.drop(columns=['Datum', 'Percentage', 'PercentageLaag', 'PercentageHoog'])"
   ]
  },
  {
   "cell_type": "code",
   "execution_count": null,
   "metadata": {},
   "outputs": [],
   "source": [
    "zetels['ZetelsHoog'] = zetels['ZetelsHoog'] - zetels['Zetels']\n",
    "zetels['Zetels'] = zetels['Zetels'] - zetels['ZetelsLaag']"
   ]
  },
  {
   "cell_type": "code",
   "execution_count": null,
   "metadata": {},
   "outputs": [],
   "source": [
    "zetels = zetels.reindex(['ZetelsLaag', 'Zetels', 'ZetelsHoog'], axis=1)"
   ]
  },
  {
   "cell_type": "code",
   "execution_count": null,
   "metadata": {},
   "outputs": [],
   "source": [
    "zetels.plot.bar(stacked=True, figsize=(11, 8))"
   ]
  },
  {
   "cell_type": "markdown",
   "metadata": {},
   "source": [
    "# Coalitiewijzer!\n",
    "Press the buttons and get the number of seats of your selected coalition. A majority coalition needs 76 seats."
   ]
  },
  {
   "cell_type": "code",
   "execution_count": null,
   "metadata": {},
   "outputs": [],
   "source": [
    "import ipywidgets as widgets"
   ]
  },
  {
   "cell_type": "code",
   "execution_count": null,
   "metadata": {},
   "outputs": [],
   "source": [
    "toggle_buttons = {key: widgets.ToggleButton(description=key, value=False,\n",
    "                                            layout=widgets.Layout(height='auto', width='auto'))\n",
    "                  for key in numbers.index}\n",
    "\n",
    "grid_width = 5\n",
    "\n",
    "grid = widgets.GridspecLayout((len(numbers) - 1) // grid_width + 1, grid_width)\n",
    "for ix, (key, button) in enumerate(toggle_buttons.items()):\n",
    "    ix1, ix2 = ix // grid_width, ix % grid_width\n",
    "    grid[ix1, ix2] = button\n",
    "    \n",
    "balls = widgets.GridspecLayout(10, 15)"
   ]
  },
  {
   "cell_type": "code",
   "execution_count": null,
   "metadata": {},
   "outputs": [],
   "source": [
    "def on_toggle(**toggles):\n",
    "    expectation_value = numbers[list(toggles.values())].Zetels.sum()\n",
    "    low = numbers[list(toggles.values())].ZetelsLaag.sum()\n",
    "    high = numbers[list(toggles.values())].ZetelsHoog.sum()\n",
    "    print(f\"verwacht aantal zetels: {expectation_value} (laag: {low}, hoog: {high})\")\n",
    "    \n",
    "    count = 0\n",
    "    for ix in range(150):\n",
    "        ix1, ix2 = ix // 15, ix % 15\n",
    "        if count > high:\n",
    "            value = '.'\n",
    "        elif count > expectation_value:\n",
    "            value = 'o'\n",
    "        elif count == expectation_value:\n",
    "            value = 'O'\n",
    "        else:\n",
    "            value = 'o'\n",
    "        \n",
    "        balls[ix1, ix2] = widgets.HTML(value=value, disabled=False,\n",
    "                                       layout=widgets.Layout(height='auto', width='auto'),\n",
    "                                       )\n",
    "\n",
    "interact_out = widgets.interactive_output(on_toggle, toggle_buttons)\n",
    "display(grid, interact_out)"
   ]
  },
  {
   "cell_type": "code",
   "execution_count": null,
   "metadata": {},
   "outputs": [],
   "source": [
    "# display(balls)"
   ]
  },
  {
   "cell_type": "code",
   "execution_count": null,
   "metadata": {},
   "outputs": [],
   "source": [
    "bar = widgets.IntProgress(\n",
    "    value=0,\n",
    "    min=0,\n",
    "    max=150,\n",
    "    step=1,\n",
    "    description='coalition size:',\n",
    "    orientation='horizontal'\n",
    ")"
   ]
  },
  {
   "cell_type": "code",
   "execution_count": null,
   "metadata": {},
   "outputs": [],
   "source": [
    "def on_toggle(**toggles):\n",
    "    expectation_value = numbers[list(toggles.values())].Zetels.sum()\n",
    "    low = numbers[list(toggles.values())].ZetelsLaag.sum()\n",
    "    high = numbers[list(toggles.values())].ZetelsHoog.sum()\n",
    "    print(f\"verwacht aantal zetels: {expectation_value} (laag: {low}, hoog: {high})\")\n",
    "    \n",
    "    bar.value = expectation_value\n",
    "\n",
    "interact_out = widgets.interactive_output(on_toggle, toggle_buttons)\n",
    "display(grid, interact_out)\n",
    "display(bar)"
   ]
  },
  {
   "cell_type": "code",
   "execution_count": null,
   "metadata": {},
   "outputs": [],
   "source": []
  }
 ],
 "metadata": {
  "language_info": {
   "name": "python",
   "pygments_lexer": "ipython3"
  }
 },
 "nbformat": 4,
 "nbformat_minor": 4
}
